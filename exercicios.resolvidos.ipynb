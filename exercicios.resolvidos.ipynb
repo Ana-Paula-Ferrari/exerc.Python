{
  "nbformat": 4,
  "nbformat_minor": 0,
  "metadata": {
    "colab": {
      "name": "Untitled0.ipynb",
      "provenance": [],
      "collapsed_sections": [],
      "authorship_tag": "ABX9TyNSVBZr1U6uohkzG0hSWsNM",
      "include_colab_link": true
    },
    "kernelspec": {
      "name": "python3",
      "display_name": "Python 3"
    },
    "language_info": {
      "name": "python"
    }
  },
  "cells": [
    {
      "cell_type": "markdown",
      "metadata": {
        "id": "view-in-github",
        "colab_type": "text"
      },
      "source": [
        "<a href=\"https://colab.research.google.com/github/Ana-Paula-Ferrari/exerc.Python/blob/main/exercicios.resolvidos.ipynb\" target=\"_parent\"><img src=\"https://colab.research.google.com/assets/colab-badge.svg\" alt=\"Open In Colab\"/></a>"
      ]
    },
    {
      "cell_type": "markdown",
      "metadata": {
        "id": "iNdIHgQdQrTu"
      },
      "source": [
        "Exercício aula 2\n"
      ]
    },
    {
      "cell_type": "code",
      "metadata": {
        "id": "qFekMHKJQuQV",
        "colab": {
          "base_uri": "https://localhost:8080/"
        },
        "outputId": "12ecd301-5e9c-49f3-80af-57bb316fc202"
      },
      "source": [
        "#Exercicío 2.1\n",
        "y=int(input('Digite um número inteiro: '))\n",
        "x=int(input('Digite outro número inteiro: '))\n",
        "#Maneira Moderna\n",
        "print('A soma entre {} e {} é: {}. '.format(y,x, x+y))\n",
        "#Maneira Clássica\n",
        "print('A soma entre %i e %i é: %i.' %(y,x,x+y))"
      ],
      "execution_count": 5,
      "outputs": [
        {
          "output_type": "stream",
          "text": [
            "Digite um número inteiro: 6\n",
            "Digite outro número inteiro: 8\n",
            "A soma entre 6 e 8 é: 14. \n",
            "A soma entre 6 e 8 é: 14.\n"
          ],
          "name": "stdout"
        }
      ]
    },
    {
      "cell_type": "markdown",
      "metadata": {
        "id": "S2Gq2qjprIJW"
      },
      "source": [
        "exerc. condicional composta\n"
      ]
    },
    {
      "cell_type": "code",
      "metadata": {
        "colab": {
          "base_uri": "https://localhost:8080/"
        },
        "id": "Lb2s0Vm8rNrL",
        "outputId": "94c27f48-e301-4356-a433-ce4c82a64c62"
      },
      "source": [
        "#par ou ímpar\n",
        "x = int(input('Digite um valor inteiro: '))\n",
        "if (x % 2 == 0):\n",
        "   print('O número é par!')\n",
        "else:\n",
        "    print('O número é ímpar!')"
      ],
      "execution_count": 13,
      "outputs": [
        {
          "output_type": "stream",
          "text": [
            "Digite um valor inteiro: 10\n",
            "O número é par!\n"
          ],
          "name": "stdout"
        }
      ]
    },
    {
      "cell_type": "markdown",
      "metadata": {
        "id": "jUaNobY6o6vz"
      },
      "source": [
        "Exercicio aula condicional simples.\n"
      ]
    },
    {
      "cell_type": "code",
      "metadata": {
        "colab": {
          "base_uri": "https://localhost:8080/"
        },
        "id": "cpOdErTEo-xt",
        "outputId": "6dfb6fa8-b15d-41c4-d3cd-99b8f1f63265"
      },
      "source": [
        "x = int(input('Digite um valor inteiro: '))\n",
        "y = int(input('Digite um segundo valor inteiro: '))\n",
        "if (x > y):\n",
        "  print('O primeiro valor é maior que o segundo!')"
      ],
      "execution_count": 7,
      "outputs": [
        {
          "output_type": "stream",
          "text": [
            "Digite um valor inteiro: 2\n",
            "Digite um segundo valor inteiro: 9\n"
          ],
          "name": "stdout"
        }
      ]
    },
    {
      "cell_type": "code",
      "metadata": {
        "colab": {
          "base_uri": "https://localhost:8080/"
        },
        "id": "X_1-1yIUEkXA",
        "outputId": "60032cda-7fc8-4209-bb71-b923c65d822e"
      },
      "source": [
        "print('Olá, Mundo!')"
      ],
      "execution_count": null,
      "outputs": [
        {
          "output_type": "stream",
          "text": [
            "Olá, Mundo!\n"
          ],
          "name": "stdout"
        }
      ]
    },
    {
      "cell_type": "markdown",
      "metadata": {
        "id": "qWwQBn7SFj_5"
      },
      "source": [
        ""
      ]
    }
  ]
}