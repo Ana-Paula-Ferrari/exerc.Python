{
  "nbformat": 4,
  "nbformat_minor": 0,
  "metadata": {
    "colab": {
      "name": "Untitled1.ipynb",
      "provenance": [],
      "authorship_tag": "ABX9TyP1TxBss+q67mL+fWxveE7U"
    },
    "kernelspec": {
      "name": "python3",
      "display_name": "Python 3"
    },
    "language_info": {
      "name": "python"
    }
  },
  "cells": [
    {
      "cell_type": "markdown",
      "metadata": {
        "id": "FrggP-siwB4c"
      },
      "source": [
        "Exemplos -> Operadores lógicos/booleanos."
      ]
    },
    {
      "cell_type": "code",
      "metadata": {
        "colab": {
          "base_uri": "https://localhost:8080/"
        },
        "id": "pyjm0eWExnr7",
        "outputId": "cd5f93b3-5fa2-44e4-9b62-c3494a8bdb0b"
      },
      "source": [
        "# and/e\n",
        "x = True\n",
        "y = False\n",
        "print(x and y)"
      ],
      "execution_count": 3,
      "outputs": [
        {
          "output_type": "stream",
          "text": [
            "False\n"
          ],
          "name": "stdout"
        }
      ]
    },
    {
      "cell_type": "code",
      "metadata": {
        "colab": {
          "base_uri": "https://localhost:8080/"
        },
        "id": "dMmO1reUx3g-",
        "outputId": "18f4f66f-b80d-4836-f0c6-7b00401c3c6b"
      },
      "source": [
        "# or/ou\n",
        "x = True\n",
        "y = False\n",
        "print(x or y)"
      ],
      "execution_count": 4,
      "outputs": [
        {
          "output_type": "stream",
          "text": [
            "True\n"
          ],
          "name": "stdout"
        }
      ]
    },
    {
      "cell_type": "code",
      "metadata": {
        "colab": {
          "base_uri": "https://localhost:8080/"
        },
        "id": "IoGgYQmNxVee",
        "outputId": "96826004-9552-4bdd-fa28-823ed43f234c"
      },
      "source": [
        "# not/não\n",
        "x = True #verdadeiro\n",
        "y = False #falso\n",
        "print(not x)\n",
        "print(not y)"
      ],
      "execution_count": 5,
      "outputs": [
        {
          "output_type": "stream",
          "text": [
            "False\n",
            "True\n"
          ],
          "name": "stdout"
        }
      ]
    },
    {
      "cell_type": "code",
      "metadata": {
        "colab": {
          "base_uri": "https://localhost:8080/"
        },
        "id": "1adHt_Zbzx9L",
        "outputId": "39c207af-4f31-4b82-e9df-3315e5f1a384"
      },
      "source": [
        "x = 10\n",
        "y = 1\n",
        "res = not x > y\n",
        "print(res)"
      ],
      "execution_count": 6,
      "outputs": [
        {
          "output_type": "stream",
          "text": [
            "False\n"
          ],
          "name": "stdout"
        }
      ]
    },
    {
      "cell_type": "code",
      "metadata": {
        "colab": {
          "base_uri": "https://localhost:8080/"
        },
        "id": "tegcmUFhz-eK",
        "outputId": "ffa9f7c3-6402-4b08-dd21-92940046c380"
      },
      "source": [
        "x = 10\n",
        "y = 1\n",
        "z = 5.5\n",
        "res = x > y and z == y\n",
        "print(res)"
      ],
      "execution_count": 7,
      "outputs": [
        {
          "output_type": "stream",
          "text": [
            "False\n"
          ],
          "name": "stdout"
        }
      ]
    },
    {
      "cell_type": "markdown",
      "metadata": {
        "id": "OLCnF1eCOoL6"
      },
      "source": [
        "Exercícios de seleção ou decisão."
      ]
    },
    {
      "cell_type": "code",
      "metadata": {
        "colab": {
          "base_uri": "https://localhost:8080/"
        },
        "id": "aClUjisa5212",
        "outputId": "70f9687a-f225-4678-98a0-4cbd2c2d47e8"
      },
      "source": [
        "#Exercicio se/senão\n",
        "m1 = float(input('Digite a nota da 1ª matéria: '))\n",
        "m2 = float(input('Digite a nota da 2ª matéria: '))\n",
        "m3 = float(input('Digite a nota da 3ª matéria: '))\n",
        "if m1 >= 7 and m2 >= 7 and m3 >= 7:\n",
        "  print('O aluno está aprovado!');\n",
        "else:\n",
        "  print('O aluno está reprovado!')\n"
      ],
      "execution_count": 9,
      "outputs": [
        {
          "output_type": "stream",
          "text": [
            "Digite a nota da 1ª matéria: 7\n",
            "Digite a nota da 2ª matéria: 9\n",
            "Digite a nota da 3ª matéria: 7\n",
            "O aluno está aprovado!\n"
          ],
          "name": "stdout"
        }
      ]
    },
    {
      "cell_type": "code",
      "metadata": {
        "colab": {
          "base_uri": "https://localhost:8080/"
        },
        "id": "ry2SuV1v868r",
        "outputId": "25b42de6-7c1f-4d6a-bd15-2650a6a634b1"
      },
      "source": [
        "#Exercício-aninhamento\n",
        "print('Escolha o que deseja comprar:')\n",
        "print('1 - Maça')\n",
        "print('2 - Laranja')\n",
        "print('3 - Banana')\n",
        "produto = int(input('Qual sua escolha? '))\n",
        "qtd = int(input('Quantas unidades? '))\n",
        "if(produto == 1):\n",
        "  pagar = qtd * 2.3\n",
        "  print('Você comprou {} maças. Total a pagar: {}'.format(qtd,pagar))\n",
        "else:\n",
        "  if(produto == 2):\n",
        "   pagar = qtd * 3.6 \n",
        "   print('Você comprou {} laranjas. Total a pagar: {}'.format(qtd,pagar))\n",
        "  else:\n",
        "    if(produto == 3):\n",
        "      pagar = qtd * 1.85\n",
        "      print('Você comprou {} bananas. Total a pagar: {}'.format(qtd,pagar))\n",
        "    else:\n",
        "        print('Produto inexistente!')\n"
      ],
      "execution_count": 16,
      "outputs": [
        {
          "output_type": "stream",
          "text": [
            "Escolha o que deseja comprar:\n",
            "1 - Maça\n",
            "2 - Laranja\n",
            "3 - Banana\n",
            "Qual sua escolha? 1\n",
            "Quantas unidades? 5\n",
            "Você comprou 5 maças. Total a pagar: 11.5\n"
          ],
          "name": "stdout"
        }
      ]
    },
    {
      "cell_type": "code",
      "metadata": {
        "colab": {
          "base_uri": "https://localhost:8080/"
        },
        "id": "PWGZBRVfFOjP",
        "outputId": "aca95f31-0e3a-4192-afee-f7f8ca0ddb5d"
      },
      "source": [
        "#elif\n",
        "print('Escolha o que deseja comprar:')\n",
        "print('1 - Maça')\n",
        "print('2 - Laranja')\n",
        "print('3 - Banana')\n",
        "produto = int(input('Qual sua escolha? '))\n",
        "qtd = int(input('Quantas unidades? '))\n",
        "if(produto == 1):\n",
        "  pagar = qtd * 2.3\n",
        "  print('Você comprou {} maças. Total a pagar: {}'.format(qtd,pagar))\n",
        "elif(produto == 2):\n",
        " pagar = qtd * 3.6\n",
        " print('Você comprou {} laranjas. Total a pagar: {}'.format(qtd,pagar))\n",
        "elif(produto == 3):\n",
        "  pagar = qtd * 1.85\n",
        "  print('Você comprou {} bananas. Total a pagar: {}'.format(qtd,pagar))\n",
        "else:\n",
        "  print('Produto inexistente!')\n"
      ],
      "execution_count": 18,
      "outputs": [
        {
          "output_type": "stream",
          "text": [
            "Escolha o que deseja comprar:\n",
            "1 - Maça\n",
            "2 - Laranja\n",
            "3 - Banana\n",
            "Qual sua escolha? 2\n",
            "Quantas unidades? 4\n",
            "Você comprou 4 laranjas. Total a pagar: 14.4\n"
          ],
          "name": "stdout"
        }
      ]
    },
    {
      "cell_type": "markdown",
      "metadata": {
        "id": "L9iAiqW9Od_Q"
      },
      "source": [
        "Estrutura de Repetição."
      ]
    },
    {
      "cell_type": "code",
      "metadata": {
        "colab": {
          "base_uri": "https://localhost:8080/"
        },
        "id": "L2E6yQPMG1iI",
        "outputId": "9ddf9c8c-a8e9-4f2d-c890-21a1c43bd52b"
      },
      "source": [
        "x = 1 #valor de inicio\n",
        "while(x <= 5): #enquanto(condição)\n",
        "  print(x)\n",
        "  x = x + 1 #incremento"
      ],
      "execution_count": 19,
      "outputs": [
        {
          "output_type": "stream",
          "text": [
            "1\n",
            "2\n",
            "3\n",
            "4\n",
            "5\n"
          ],
          "name": "stdout"
        }
      ]
    },
    {
      "cell_type": "code",
      "metadata": {
        "colab": {
          "base_uri": "https://localhost:8080/"
        },
        "id": "La_punptNqc3",
        "outputId": "502c44c6-cc6e-47b8-8161-a08228bd910e"
      },
      "source": [
        "inicio = int(input('Qual o valor deseja iniciar a contagem? '))\n",
        "fim = int(input('Qual valor deseja encerrar a contagem? '))\n",
        "x = inicio\n",
        "while( x <= fim):\n",
        "  if(x % 2 == 0):\n",
        "    print(x)\n",
        "  x = x + 1"
      ],
      "execution_count": 20,
      "outputs": [
        {
          "output_type": "stream",
          "text": [
            "Qual o valor deseja iniciar a contagem? 5\n",
            "Qual valor deseja encerrar a contagem? 10\n",
            "6\n",
            "8\n",
            "10\n"
          ],
          "name": "stdout"
        }
      ]
    },
    {
      "cell_type": "code",
      "metadata": {
        "colab": {
          "base_uri": "https://localhost:8080/"
        },
        "id": "Aw3sFilnPTxO",
        "outputId": "d8aa35fa-4737-4982-fa1e-289556672d74"
      },
      "source": [
        "soma = 0\n",
        "cont = 1\n",
        "while(cont <= 5):\n",
        "  x = float(input('Digite a {}ª nota: '.format(cont)))\n",
        "  soma = soma + x #ou soma += x\n",
        "  cont = cont + 1 #ou cont += 1\n",
        "media = soma / 5\n",
        "print('Média final: {}'.format(media))"
      ],
      "execution_count": 21,
      "outputs": [
        {
          "output_type": "stream",
          "text": [
            "Digite a 1ª nota: 8.9\n",
            "Digite a 2ª nota: 7\n",
            "Digite a 3ª nota: 4.1\n",
            "Digite a 4ª nota: 6.8\n",
            "Digite a 5ª nota: 9\n",
            "Média final: 7.159999999999999\n"
          ],
          "name": "stdout"
        }
      ]
    },
    {
      "cell_type": "code",
      "metadata": {
        "colab": {
          "base_uri": "https://localhost:8080/"
        },
        "id": "IbGJDqFMRNTd",
        "outputId": "061e8bd7-0b4a-49a0-c984-477f6aea0df5"
      },
      "source": [
        "#validando dados de entrada\n",
        "x = int(input('Digite um valor maior que zero: '))\n",
        "while( x <= 0):\n",
        "  x = int(input('Digite um valor maior que zero: '))\n",
        "print('Você digitou {}. Encerrando o programa... '.format(x))\n"
      ],
      "execution_count": 22,
      "outputs": [
        {
          "output_type": "stream",
          "text": [
            "Digite um valor maior que zero: 0\n",
            "Digite um valor maior que zero: -9\n",
            "Digite um valor maior que zero: 5\n",
            "Você digitou 5. Encerrando o programa... \n"
          ],
          "name": "stdout"
        }
      ]
    },
    {
      "cell_type": "code",
      "metadata": {
        "colab": {
          "base_uri": "https://localhost:8080/"
        },
        "id": "78oEq3OcS6qV",
        "outputId": "60a3175d-32fd-43d1-b370-0c722b77f460"
      },
      "source": [
        "print('Digite uma mensagem que irei repetir para você! ')\n",
        "print('Para encerrar escreva \"sair\".')\n",
        "while True:\n",
        "  texto = input('')\n",
        "  print(texto)\n",
        "  if texto == 'sair':\n",
        "    break\n",
        "print('Encerrando o programa... ')"
      ],
      "execution_count": 24,
      "outputs": [
        {
          "output_type": "stream",
          "text": [
            "Digite uma mensagem que irei repetir para você! \n",
            "Para encerrar escreva \"sair\".\n",
            "Ana\n",
            "Ana\n",
            "Paula\n",
            "Paula\n",
            "Sair\n",
            "Sair\n",
            "Sair tem que ser igual ao sair apresentado em if texto == ' '\n",
            "Sair tem que ser igual ao sair apresentado em if texto == ' '\n",
            "sair\n",
            "sair\n",
            "Encerrando o programa... \n"
          ],
          "name": "stdout"
        }
      ]
    },
    {
      "cell_type": "code",
      "metadata": {
        "colab": {
          "base_uri": "https://localhost:8080/"
        },
        "id": "OjtuWREGVRZ5",
        "outputId": "3b61591a-0178-4716-d31f-f989e775a49b"
      },
      "source": [
        "while True:\n",
        "  nome = input('Qual o seu nome? ')\n",
        "  if(nome != 'Ana'):\n",
        "    continue\n",
        "  senha = input('Digite a sua senha? ')\n",
        "  if(senha == 'UninTer'):\n",
        "    break\n",
        "print('Acesso concedido.')"
      ],
      "execution_count": 25,
      "outputs": [
        {
          "output_type": "stream",
          "text": [
            "Qual o seu nome? Carol\n",
            "Qual o seu nome? Ana\n",
            "Digite a sua senha? 12345\n",
            "Qual o seu nome? Ana\n",
            "Digite a sua senha? UninTer\n",
            "Acesso concedido.\n"
          ],
          "name": "stdout"
        }
      ]
    },
    {
      "cell_type": "code",
      "metadata": {
        "colab": {
          "base_uri": "https://localhost:8080/"
        },
        "id": "0ar0lz52W3fl",
        "outputId": "b0533380-c786-4e6a-e089-bf8e94775150"
      },
      "source": [
        "# Valores \"Truthy\" e \"Falsey\"\n",
        "# Falsey/False: Número zero (int ou float) e string vazia\n",
        "# Truthy/True: Qualquer outro dado\n",
        "\n",
        "nome = '' #False\n",
        "while not nome:\n",
        "   nome = input('Digite seu nome: ')#enquanto nome for diferente de string vazia\n",
        "   valor = int(input('Digite um número qualquer: '))\n",
        "if valor:\n",
        "   print('Você digitou um valor diferente de zero.')\n",
        "else:\n",
        "   print('Você digitou zero.')\n",
        "\n"
      ],
      "execution_count": 30,
      "outputs": [
        {
          "output_type": "stream",
          "text": [
            "Digite seu nome: Ana\n",
            "Digite um número qualquer: 6\n",
            "Você digitou um valor diferente de zero.\n"
          ],
          "name": "stdout"
        }
      ]
    },
    {
      "cell_type": "code",
      "metadata": {
        "colab": {
          "base_uri": "https://localhost:8080/"
        },
        "id": "J15TX5xvaCkz",
        "outputId": "b1a420a8-0c01-44b0-a959-4089a8618a82"
      },
      "source": [
        "for i in range (6):\n",
        "  print(i)"
      ],
      "execution_count": 31,
      "outputs": [
        {
          "output_type": "stream",
          "text": [
            "0\n",
            "1\n",
            "2\n",
            "3\n",
            "4\n",
            "5\n"
          ],
          "name": "stdout"
        }
      ]
    },
    {
      "cell_type": "code",
      "metadata": {
        "colab": {
          "base_uri": "https://localhost:8080/"
        },
        "id": "EsRpDEcNaYwl",
        "outputId": "a63628d4-cf10-4a43-9093-1c7f27cb29ea"
      },
      "source": [
        "for i in range(1,6,1):\n",
        "  print(i)"
      ],
      "execution_count": 32,
      "outputs": [
        {
          "output_type": "stream",
          "text": [
            "1\n",
            "2\n",
            "3\n",
            "4\n",
            "5\n"
          ],
          "name": "stdout"
        }
      ]
    },
    {
      "cell_type": "code",
      "metadata": {
        "colab": {
          "base_uri": "https://localhost:8080/"
        },
        "id": "XW0zhglHa_bS",
        "outputId": "8bb55f71-551d-4992-8fcc-87db62685e3d"
      },
      "source": [
        "for i in range(10,0,-2):\n",
        "  print(i)"
      ],
      "execution_count": 33,
      "outputs": [
        {
          "output_type": "stream",
          "text": [
            "10\n",
            "8\n",
            "6\n",
            "4\n",
            "2\n"
          ],
          "name": "stdout"
        }
      ]
    },
    {
      "cell_type": "code",
      "metadata": {
        "colab": {
          "base_uri": "https://localhost:8080/"
        },
        "id": "xLp6E0e2b5XE",
        "outputId": "dfa979d5-f78b-499c-f169-6b534156cc47"
      },
      "source": [
        "soma = 0\n",
        "quant = 0\n",
        "for i in range(1,101):\n",
        "  if(i % 2 == 0):\n",
        "    soma += i\n",
        "    quant += 1\n",
        "media = soma / quant\n",
        "print('A média dos pares de 1 até 100 é: {}'.format(media))"
      ],
      "execution_count": 34,
      "outputs": [
        {
          "output_type": "stream",
          "text": [
            "A média dos pares de 1 até 100 é: 51.0\n"
          ],
          "name": "stdout"
        }
      ]
    },
    {
      "cell_type": "markdown",
      "metadata": {
        "id": "S9Li0Rjpkhj6"
      },
      "source": [
        "Tabuada com estruturas de repetição e aninhamento."
      ]
    },
    {
      "cell_type": "code",
      "metadata": {
        "id": "LjpGbj85dIYf"
      },
      "source": [
        "#2 while\n",
        "tabuada = 1\n",
        "while tabuada <= 5:\n",
        "  print('TABUADA DO {}:'.format(tabuada))#laço externo\n",
        "  i = 1\n",
        "  while i <= 10:\n",
        "    print('{} x {} = {}'.format(tabuada, i , tabuada * i))\n",
        "    i += 1#laço interno, quando terminar passa para o externo novamente\n",
        "  tabuada += 1#tabuada recebe mais 1"
      ],
      "execution_count": null,
      "outputs": []
    },
    {
      "cell_type": "code",
      "metadata": {
        "id": "V_mMxlOSiiSt"
      },
      "source": [
        "#2 for\n",
        "for tabuada in range(1, 6, 1): #externo\n",
        "  print('TABUADA DO {}:'.format(tabuada))\n",
        "  for i in range(1, 11, 1): #interno\n",
        "    print('{} x {} = {}'.format(tabuada, i, tabuada * i))"
      ],
      "execution_count": null,
      "outputs": []
    },
    {
      "cell_type": "code",
      "metadata": {
        "id": "pdizgjObjvr6"
      },
      "source": [
        "#while + for\n",
        "tabuada = 1\n",
        "while tabuada <= 5:\n",
        "  print('TABUADA DO {}'.format(tabuada))\n",
        "  for i in range(1, 11, 1):\n",
        "    print('{} x {} = {}'.format(tabuada, i, tabuada * i))\n",
        "  tabuada += 1"
      ],
      "execution_count": null,
      "outputs": []
    }
  ]
}