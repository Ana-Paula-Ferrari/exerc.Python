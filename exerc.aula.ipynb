{
  "nbformat": 4,
  "nbformat_minor": 0,
  "metadata": {
    "colab": {
      "name": "Untitled1.ipynb",
      "provenance": [],
      "authorship_tag": "ABX9TyOHW5xG/7ktPxN8HpBa4QFJ"
    },
    "kernelspec": {
      "name": "python3",
      "display_name": "Python 3"
    },
    "language_info": {
      "name": "python"
    }
  },
  "cells": [
    {
      "cell_type": "markdown",
      "metadata": {
        "id": "FrggP-siwB4c"
      },
      "source": [
        "Exemplos -> Operadores lógicos/booleanos"
      ]
    },
    {
      "cell_type": "code",
      "metadata": {
        "colab": {
          "base_uri": "https://localhost:8080/"
        },
        "id": "1adHt_Zbzx9L",
        "outputId": "39c207af-4f31-4b82-e9df-3315e5f1a384"
      },
      "source": [
        "x = 10\n",
        "y = 1\n",
        "res = not x > y\n",
        "print(res)"
      ],
      "execution_count": 6,
      "outputs": [
        {
          "output_type": "stream",
          "text": [
            "False\n"
          ],
          "name": "stdout"
        }
      ]
    },
    {
      "cell_type": "code",
      "metadata": {
        "colab": {
          "base_uri": "https://localhost:8080/"
        },
        "id": "tegcmUFhz-eK",
        "outputId": "ffa9f7c3-6402-4b08-dd21-92940046c380"
      },
      "source": [
        "x = 10\n",
        "y = 1\n",
        "z = 5.5\n",
        "res = x > y and z == y\n",
        "print(res)"
      ],
      "execution_count": 7,
      "outputs": [
        {
          "output_type": "stream",
          "text": [
            "False\n"
          ],
          "name": "stdout"
        }
      ]
    },
    {
      "cell_type": "code",
      "metadata": {
        "colab": {
          "base_uri": "https://localhost:8080/"
        },
        "id": "IoGgYQmNxVee",
        "outputId": "96826004-9552-4bdd-fa28-823ed43f234c"
      },
      "source": [
        "# not/não\n",
        "x = True #verdadeiro\n",
        "y = False #falso\n",
        "print(not x)\n",
        "print(not y)"
      ],
      "execution_count": 5,
      "outputs": [
        {
          "output_type": "stream",
          "text": [
            "False\n",
            "True\n"
          ],
          "name": "stdout"
        }
      ]
    },
    {
      "cell_type": "code",
      "metadata": {
        "colab": {
          "base_uri": "https://localhost:8080/"
        },
        "id": "pyjm0eWExnr7",
        "outputId": "cd5f93b3-5fa2-44e4-9b62-c3494a8bdb0b"
      },
      "source": [
        "# and/e\n",
        "x = True\n",
        "y = False\n",
        "print(x and y)"
      ],
      "execution_count": 3,
      "outputs": [
        {
          "output_type": "stream",
          "text": [
            "False\n"
          ],
          "name": "stdout"
        }
      ]
    },
    {
      "cell_type": "code",
      "metadata": {
        "colab": {
          "base_uri": "https://localhost:8080/"
        },
        "id": "dMmO1reUx3g-",
        "outputId": "18f4f66f-b80d-4836-f0c6-7b00401c3c6b"
      },
      "source": [
        "# or/ou\n",
        "x = True\n",
        "y = False\n",
        "print(x or y)"
      ],
      "execution_count": 4,
      "outputs": [
        {
          "output_type": "stream",
          "text": [
            "True\n"
          ],
          "name": "stdout"
        }
      ]
    }
  ]
}