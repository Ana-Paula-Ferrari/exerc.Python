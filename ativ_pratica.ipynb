{
  "nbformat": 4,
  "nbformat_minor": 0,
  "metadata": {
    "colab": {
      "name": "ativ.pratica.ipynb",
      "provenance": [],
      "collapsed_sections": [],
      "authorship_tag": "ABX9TyMC6B9M0aHnVnhe3oaFlylE"
    },
    "kernelspec": {
      "name": "python3",
      "display_name": "Python 3"
    },
    "language_info": {
      "name": "python"
    }
  },
  "cells": [
    {
      "cell_type": "code",
      "metadata": {
        "colab": {
          "base_uri": "https://localhost:8080/"
        },
        "id": "3SuNqxD1vrum",
        "outputId": "174c52c5-3b7c-46f4-b44e-2abc8ff25bcd"
      },
      "source": [
        " #laço de repetição\n",
        " while True:\n",
        "\n",
        "  #entrada de dados\n",
        "  aluno = input('Nome do aluno: ')\n",
        "  nota = float(input('Nota final do aluno: '))\n",
        "\n",
        "  #analisando os dados de entrada e exibição dos dados de saída\n",
        "  if((nota >= 0.0) and (nota <= 2.9)):\n",
        "    print('O aluno {} tirou a nota {} e se enquandra no conceito E.'.format(aluno, nota))\n",
        "  elif((nota >= 3.0) and (nota <= 4.9)):\n",
        "    print('O aluno {} tirou a nota {} e se enquandra no conceito D.'.format(aluno, nota))\n",
        "  elif((nota >= 5.0) and (nota <= 6.9)):\n",
        "    print('O aluno {} tirou a nota {} e se enquandra no conceito C.'.format(aluno, nota))\n",
        "  elif((nota >= 7.0) and (nota <= 8.9)):\n",
        "    print('O aluno {} tirou a nota {} e se enquandra no conceito B.'.format(aluno, nota))\n",
        "  elif((nota >= 9.0) and (nota <= 10.0)):\n",
        "    print('O aluno {} tirou a nota {} e se enquandra no conceito A.'.format(aluno, nota))\n",
        "  else:\n",
        "    print('Verifique os valores inseridos!')  \n",
        "\n",
        "  res = int(input('Desejar encerrar? (1) SIM /(2) NÃO: '))\n",
        "  if (res == 1):\n",
        "      print('Encerrando o programa...')\n",
        "      break #Parar o programa se a resposta for igual a 1\n",
        "  if (res != 1):\n",
        "    continue #Continua o programa se o usuário digitar qualquer valor diferente de 1\n",
        "  \n"
      ],
      "execution_count": null,
      "outputs": [
        {
          "output_type": "stream",
          "text": [
            "Nome do aluno: Ana Paula Rodrigues Ferrari\n",
            "Nota final do aluno: 6.2\n",
            "O aluno Ana Paula Rodrigues Ferrari tirou a nota 6.2 e se enquandra no conceito C.\n",
            "Desejar encerrar? (1) SIM /(2) NÃO: 1\n",
            "Encerrando o programa...\n"
          ],
          "name": "stdout"
        }
      ]
    },
    {
      "cell_type": "code",
      "metadata": {
        "colab": {
          "base_uri": "https://localhost:8080/"
        },
        "id": "F8Jf0oLnGAF9",
        "outputId": "1cbd609b-18f2-435e-8e8a-6664671f28e9"
      },
      "source": [
        "#Função\n",
        "def string(s1,s2): #recebendo os parâmetros\n",
        "  s3 = '@algoritmos.com.br' \n",
        "  email = s1[0] + s2 + s3 #variavéis locais\n",
        "  print('Sr(a) {} {}, seu email é {}'.format(s1,s2,email)) #saída de dados\n",
        " \n",
        "#Programa principal\n",
        "#Dados de entrada\n",
        "s1 = input('Digite o seu nome: ') #variáveis globais\n",
        "s2 = input('Digite o seu sobrenome: ')\n",
        "#Invocando a função\n",
        "string(s1,s2) #passagem de parâmetros\n",
        "\n",
        "\n"
      ],
      "execution_count": null,
      "outputs": [
        {
          "output_type": "stream",
          "text": [
            "Digite o seu nome: Ana Paula Rodrigues\n",
            "Digite o seu sobrenome: Ferrari62\n",
            "Sr(a) Ana Paula Rodrigues Ferrari62, seu email é AFerrari62@algoritmos.com.br\n"
          ],
          "name": "stdout"
        }
      ]
    },
    {
      "cell_type": "code",
      "metadata": {
        "colab": {
          "base_uri": "https://localhost:8080/"
        },
        "id": "cjOx90Mg7QvB",
        "outputId": "890ac135-e28c-41b2-d8cd-70ac939e3550"
      },
      "source": [
        "\n",
        "import random\n",
        "listaSorteio = []\n",
        "\n",
        "#estrutura de repetição do cadastro\n",
        "while True:\n",
        "\n",
        "  #entrada de dados\n",
        "  nome = input('Digite o nome do doador: ')\n",
        "  doacao = float(input('Digite o valor doado: R$'))\n",
        "  \n",
        "  #condição para participar do sorteio\n",
        "  if (doacao > 10.00) or (doacao % 10 == 0):\n",
        "      for i in range(int(doacao),9,-10):\n",
        "        listaSorteio.append(nome)\n",
        "\n",
        "  #Pergunta para continuar ou encerrar o cadastro\n",
        "  res = int(input('Deseja realizar um novo cadastro: 1-SIM/ 2-NÃO: '))\n",
        "  if res == 1:\n",
        "    continue\n",
        "  else:\n",
        "    break\n",
        "\n",
        "print('Participantes do sorteio:', listaSorteio)\n",
        "\n",
        "#sorteio#\n",
        "sorteio = (listaSorteio)\n",
        "random.shuffle(sorteio)\n",
        "escolhido = random.choice(sorteio)\n",
        "print('\\nRealizando o sorteio ...')\n",
        "print('O escolhido foi:\\n',escolhido)\n",
        "\n",
        "\n"
      ],
      "execution_count": null,
      "outputs": [
        {
          "output_type": "stream",
          "text": [
            "Digite o nome do doador: Ana Paula\n",
            "Digite o valor doado: R$62.00\n",
            "Deseja realizar um novo cadastro: 1-SIM/ 2-NÃO: 1\n",
            "Digite o nome do doador: Ruth\n",
            "Digite o valor doado: R$20.00\n",
            "Deseja realizar um novo cadastro: 1-SIM/ 2-NÃO: 1\n",
            "Digite o nome do doador: Maria\n",
            "Digite o valor doado: R$30.00\n",
            "Deseja realizar um novo cadastro: 1-SIM/ 2-NÃO: 1\n",
            "Digite o nome do doador: Fernando\n",
            "Digite o valor doado: R$6.00\n",
            "Deseja realizar um novo cadastro: 1-SIM/ 2-NÃO: 2\n",
            "Participantes do sorteio: ['Ana Paula', 'Ana Paula', 'Ana Paula', 'Ana Paula', 'Ana Paula', 'Ana Paula', 'Ruth', 'Ruth', 'Maria', 'Maria', 'Maria']\n",
            "\n",
            "Realizando o sorteio ...\n",
            "O escolhido foi:\n",
            " Ana Paula\n"
          ],
          "name": "stdout"
        }
      ]
    },
    {
      "cell_type": "code",
      "metadata": {
        "id": "osYVXPWhET-R"
      },
      "source": [
        ""
      ],
      "execution_count": null,
      "outputs": []
    },
    {
      "cell_type": "code",
      "metadata": {
        "colab": {
          "base_uri": "https://localhost:8080/"
        },
        "id": "idtwCkmvegJl",
        "outputId": "97996eb6-f65c-43ba-df8b-c6e2293e2ba8"
      },
      "source": [
        "teste = list ()\n",
        "teste.append('Gustavo')\n",
        "teste.append(40)\n",
        "\n",
        "galera = list ()\n",
        "galera.append(teste[:]) #galera.append(teste), vincula galera e teste\n",
        "teste[0]='Maria'\n",
        "teste[1]= 22\n",
        "galera.append(teste[:])\n",
        "print(galera)\n",
        "\n"
      ],
      "execution_count": null,
      "outputs": [
        {
          "output_type": "stream",
          "text": [
            "[['Gustavo', 40], ['Maria', 22]]\n"
          ],
          "name": "stdout"
        }
      ]
    },
    {
      "cell_type": "code",
      "metadata": {
        "colab": {
          "base_uri": "https://localhost:8080/"
        },
        "id": "6uB9On-Acrj1",
        "outputId": "05b94579-85aa-4727-88da-43e131e64b47"
      },
      "source": [
        "\n",
        "produtos = []\n",
        "estq = {}\n",
        "\n",
        "#laço de repetição e entrada de dados\n",
        "while True:\n",
        "  estq['codigo'] = int(input('Informe o código do produto: '))\n",
        "  if estq['codigo'] == 0: #condição de parada do laço\n",
        "    break\n",
        "  estq['estoque'] = int(input('Informe o estoque atual: '))\n",
        "  estq['minimo'] = int(input('Informe o estoque mínimo: '))\n",
        "  produtos.append(estq.copy()) #copia dos itens de estq para lista produtos\n",
        "\n",
        "listaOrdenada = sorted(produtos, key=lambda item: item['codigo']) #organizando pelo código\n",
        "print(listaOrdenada) #impressão na tela da lista\n"
      ],
      "execution_count": null,
      "outputs": [
        {
          "output_type": "stream",
          "text": [
            "Informe o código do produto: 3\n",
            "Informe o estoque atual: 06\n",
            "Informe o estoque mínimo: 62\n",
            "Informe o código do produto: 5\n",
            "Informe o estoque atual: 75\n",
            "Informe o estoque mínimo: 50\n",
            "Informe o código do produto: 2\n",
            "Informe o estoque atual: 43\n",
            "Informe o estoque mínimo: 45\n",
            "Informe o código do produto: 3\n",
            "Informe o estoque atual: 26\n",
            "Informe o estoque mínimo: 18\n",
            "Informe o código do produto: 20\n",
            "Informe o estoque atual: 35\n",
            "Informe o estoque mínimo: 20\n",
            "Informe o código do produto: 0\n",
            "[{'codigo': 2, 'estoque': 43, 'minimo': 45}, {'codigo': 3, 'estoque': 6, 'minimo': 62}, {'codigo': 3, 'estoque': 26, 'minimo': 18}, {'codigo': 5, 'estoque': 75, 'minimo': 50}, {'codigo': 20, 'estoque': 35, 'minimo': 20}]\n"
          ],
          "name": "stdout"
        }
      ]
    }
  ]
}