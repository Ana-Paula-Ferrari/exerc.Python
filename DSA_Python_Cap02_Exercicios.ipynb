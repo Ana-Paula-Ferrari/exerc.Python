{
  "cells": [
    {
      "cell_type": "markdown",
      "metadata": {
        "id": "view-in-github",
        "colab_type": "text"
      },
      "source": [
        "<a href=\"https://colab.research.google.com/github/Ana-Paula-Ferrari/exerc.Python/blob/exerc%C3%ADcios/DSA_Python_Cap02_Exercicios.ipynb\" target=\"_parent\"><img src=\"https://colab.research.google.com/assets/colab-badge.svg\" alt=\"Open In Colab\"/></a>"
      ]
    },
    {
      "cell_type": "markdown",
      "metadata": {
        "id": "usTpbsHlHe-3"
      },
      "source": [
        "# <font color='blue'>Data Science Academy - Python Fundamentos - Capítulo 2</font>\n",
        "\n",
        "## Download: http://github.com/dsacademybr"
      ]
    },
    {
      "cell_type": "code",
      "execution_count": null,
      "metadata": {
        "id": "FFQIJlyKHe_J",
        "outputId": "7ed30816-1bc6-4103-a413-68535fd1a6f7"
      },
      "outputs": [
        {
          "name": "stdout",
          "output_type": "stream",
          "text": [
            "Versão da Linguagem Python Usada Neste Jupyter Notebook: 3.8.8\n"
          ]
        }
      ],
      "source": [
        "# Versão da Linguagem Python\n",
        "from platform import python_version\n",
        "print('Versão da Linguagem Python Usada Neste Jupyter Notebook:', python_version())"
      ]
    },
    {
      "cell_type": "markdown",
      "metadata": {
        "id": "9V19lqijHe_T"
      },
      "source": [
        "## Exercícios Cap02"
      ]
    },
    {
      "cell_type": "code",
      "execution_count": null,
      "metadata": {
        "id": "qHyRXf2rHe_W"
      },
      "outputs": [],
      "source": [
        "# Exercício 1 - Imprima na tela os números de 1 a 10. Use uma lista para armazenar os números."
      ]
    },
    {
      "cell_type": "code",
      "execution_count": null,
      "metadata": {
        "id": "3PhIL_YZHe_Y",
        "outputId": "b73dc328-f1b0-4bec-d7e9-ae887b421311"
      },
      "outputs": [
        {
          "name": "stdout",
          "output_type": "stream",
          "text": [
            "[1, 2, 3, 4, 5, 6, 7, 8, 9, 10]\n"
          ]
        }
      ],
      "source": [
        "list_number=[1,2,3,4,5,6,7,8,9,10]\n",
        "print(list_number)"
      ]
    },
    {
      "cell_type": "code",
      "execution_count": null,
      "metadata": {
        "id": "wfAowY9uHe_b"
      },
      "outputs": [],
      "source": [
        "# Exercício 2 - Crie uma lista de 5 objetos e imprima na tela"
      ]
    },
    {
      "cell_type": "code",
      "execution_count": null,
      "metadata": {
        "id": "UYpqE9zCHe_e",
        "outputId": "4deb3f88-9e42-466a-d707-4c5be6aae9af"
      },
      "outputs": [
        {
          "name": "stdout",
          "output_type": "stream",
          "text": [
            "['Banana', 'Maça', 'Abacaxi', 'Acerola', 'Caqui']\n"
          ]
        }
      ],
      "source": [
        "list_frutas=[\"Banana\", \"Maça\", \"Abacaxi\", \"Acerola\", \"Caqui\"]\n",
        "print(list_frutas)"
      ]
    },
    {
      "cell_type": "code",
      "execution_count": null,
      "metadata": {
        "id": "Rawu3S5uHe_i"
      },
      "outputs": [],
      "source": [
        "# Exercício 3 - Crie duas strings e concatene as duas em uma terceira string"
      ]
    },
    {
      "cell_type": "code",
      "execution_count": null,
      "metadata": {
        "id": "QXCHyqWfHe_l",
        "outputId": "dacd8bc6-88a7-40b0-f4ea-a85c321959d0"
      },
      "outputs": [
        {
          "name": "stdout",
          "output_type": "stream",
          "text": [
            "Maria Luiza Souza\n"
          ]
        }
      ],
      "source": [
        "nome = \"Maria Luiza \"\n",
        "sobrenome = \"Souza\"\n",
        "nome_completo = nome + sobrenome\n",
        "print(nome_completo)"
      ]
    },
    {
      "cell_type": "code",
      "execution_count": null,
      "metadata": {
        "id": "MKxCrSTWHe_q"
      },
      "outputs": [],
      "source": [
        "# Exercício 4 - Crie uma tupla com os seguintes elementos: 1, 2, 2, 3, 4, 4, 4, 5 e depois utilize a função count do \n",
        "# objeto tupla para verificar quantas vezes o número 4 aparece na tupla"
      ]
    },
    {
      "cell_type": "code",
      "execution_count": null,
      "metadata": {
        "id": "-PsG1ALlHe_u",
        "outputId": "ebb349d2-493a-46e8-f800-e70381f2bcd3"
      },
      "outputs": [
        {
          "data": {
            "text/plain": [
              "3"
            ]
          },
          "execution_count": 11,
          "metadata": {},
          "output_type": "execute_result"
        }
      ],
      "source": [
        "tupla_number = (1, 2, 3, 4, 4, 4, 5)\n",
        "tupla_number.count(4)"
      ]
    },
    {
      "cell_type": "code",
      "execution_count": null,
      "metadata": {
        "id": "wWp-VlEKHe_w"
      },
      "outputs": [],
      "source": [
        "# Exercício 5 - Crie um dicionário vazio e imprima na tela"
      ]
    },
    {
      "cell_type": "code",
      "execution_count": null,
      "metadata": {
        "id": "suOl3WBbHe_z",
        "outputId": "23387507-0a25-4fb2-9a55-c1268eb42bf2"
      },
      "outputs": [
        {
          "name": "stdout",
          "output_type": "stream",
          "text": [
            "{}\n"
          ]
        }
      ],
      "source": [
        "dic_vazio = {}\n",
        "print(dic_vazio)"
      ]
    },
    {
      "cell_type": "code",
      "execution_count": null,
      "metadata": {
        "id": "GZB-TZEfHe_1"
      },
      "outputs": [],
      "source": [
        "# Exercício 6 - Crie um dicionário com 3 chaves e 3 valores e imprima na tela"
      ]
    },
    {
      "cell_type": "code",
      "execution_count": null,
      "metadata": {
        "id": "OeEXkZB8He_3",
        "outputId": "4608e928-ded3-4c22-9ad2-8d7c935a51a5"
      },
      "outputs": [
        {
          "name": "stdout",
          "output_type": "stream",
          "text": [
            "{'Maria': 24, 'José': 30, 'Carlos': 37}\n"
          ]
        }
      ],
      "source": [
        "cadastro_cliente = {\"Maria\": 24, \"José\": 30, \"Carlos\": 37}\n",
        "print(cadastro_cliente)"
      ]
    },
    {
      "cell_type": "code",
      "execution_count": null,
      "metadata": {
        "id": "VZDK4MtHHe_5"
      },
      "outputs": [],
      "source": [
        "# Exercício 7 - Adicione mais um elemento ao dicionário criado no exercício anterior e imprima na tela"
      ]
    },
    {
      "cell_type": "code",
      "execution_count": null,
      "metadata": {
        "id": "uVr-zhjcHe_6",
        "outputId": "630262fe-5e2e-4439-87d9-1c374b2adf6d"
      },
      "outputs": [
        {
          "name": "stdout",
          "output_type": "stream",
          "text": [
            "{'Maria': 24, 'José': 30, 'Carlos': 37, 'Mario': 40}\n"
          ]
        }
      ],
      "source": [
        "cadastro_cliente[\"Mario\"] = 40\n",
        "print(cadastro_cliente)"
      ]
    },
    {
      "cell_type": "code",
      "execution_count": null,
      "metadata": {
        "id": "_qZZ-OwTHe_9"
      },
      "outputs": [],
      "source": [
        "# Exercício 8 - Crie um dicionário com 3 chaves e 3 valores. Um dos valores deve ser uma lista de 2 elementos numéricos. \n",
        "# Imprima o dicionário na tela."
      ]
    },
    {
      "cell_type": "code",
      "execution_count": null,
      "metadata": {
        "id": "dsGRZ1PJHe_-",
        "outputId": "5034ec46-ef0b-4c41-d9b2-a247dc4635f0"
      },
      "outputs": [
        {
          "name": "stdout",
          "output_type": "stream",
          "text": [
            "{'nome': 'Maria', 'total_de_compras': 2, 'valor_da_compra': [100.0, 260.0]}\n"
          ]
        }
      ],
      "source": [
        "cadastro_cliente2 = {\"nome\": \"Maria\", \"total_de_compras\": 2,\"valor_da_compra\": [100.00, 260.00]}\n",
        "print(cadastro_cliente2)"
      ]
    },
    {
      "cell_type": "code",
      "execution_count": null,
      "metadata": {
        "id": "gPla7xiaHfAB"
      },
      "outputs": [],
      "source": [
        "# Exercício 9 - Crie uma lista de 4 elementos. O primeiro elemento deve ser uma string, \n",
        "# o segundo uma tupla de 2 elementos, o terceiro um dcionário com 2 chaves e 2 valores e \n",
        "# o quarto elemento um valor do tipo float.\n",
        "# Imprima a lista na tela."
      ]
    },
    {
      "cell_type": "code",
      "execution_count": null,
      "metadata": {
        "id": "4MFK8d1HHfAD",
        "outputId": "a8f5359a-2ce6-4af7-c265-afabe4ec2d77"
      },
      "outputs": [
        {
          "name": "stdout",
          "output_type": "stream",
          "text": [
            "['Carol', ('Maria', 'José'), {'Estado Civil': 'Casada', 'Quantidade de Filhos': 2}, 16.5]\n"
          ]
        }
      ],
      "source": [
        "info_participantes=[\"Carol\", (\"Maria\", \"José\"), {\"Estado Civil\":\"Casada\", \"Quantidade de Filhos\":2}, 16.50]\n",
        "print(info_participantes)"
      ]
    },
    {
      "cell_type": "code",
      "execution_count": null,
      "metadata": {
        "id": "8GXipbc8HfAF",
        "outputId": "93a9b9fd-e657-411c-9081-db7beed4bc19"
      },
      "outputs": [
        {
          "name": "stdout",
          "output_type": "stream",
          "text": [
            "59\n"
          ]
        },
        {
          "data": {
            "text/plain": [
              "'Cientista de Dados'"
            ]
          },
          "execution_count": 43,
          "metadata": {},
          "output_type": "execute_result"
        }
      ],
      "source": [
        "# Exercício 10 - Considere a string abaixo. Imprima na tela apenas os caracteres da posição 1 a 18.\n",
        "frase = 'Cientista de Dados é o profissional mais sexy do século XXI'\n",
        "print(len(frase))\n",
        "frase[0:18]\n"
      ]
    },
    {
      "cell_type": "markdown",
      "metadata": {
        "id": "1u8tGRIzHfAH"
      },
      "source": [
        "# Fim"
      ]
    },
    {
      "cell_type": "markdown",
      "metadata": {
        "id": "sJ3sQnHIHfAJ"
      },
      "source": [
        "### Obrigado\n",
        "\n",
        "### Visite o Blog da Data Science Academy - <a href=\"http://blog.dsacademy.com.br\">Blog DSA</a>"
      ]
    },
    {
      "cell_type": "markdown",
      "metadata": {
        "id": "tM1S22MQHfAK"
      },
      "source": [
        "Parabéns se você chegou até aqui. Use o voucher PYTHONDSA9642 para comprar qualquer curso ou Formação da DSA com 5% de desconto."
      ]
    }
  ],
  "metadata": {
    "kernelspec": {
      "display_name": "Python 3 (ipykernel)",
      "language": "python",
      "name": "python3"
    },
    "language_info": {
      "codemirror_mode": {
        "name": "ipython",
        "version": 3
      },
      "file_extension": ".py",
      "mimetype": "text/x-python",
      "name": "python",
      "nbconvert_exporter": "python",
      "pygments_lexer": "ipython3",
      "version": "3.9.7"
    },
    "colab": {
      "name": "DSA-Python-Cap02-Exercicios.ipynb",
      "provenance": [],
      "include_colab_link": true
    }
  },
  "nbformat": 4,
  "nbformat_minor": 0
}