{
  "cells": [
    {
      "cell_type": "markdown",
      "metadata": {
        "id": "view-in-github",
        "colab_type": "text"
      },
      "source": [
        "<a href=\"https://colab.research.google.com/github/Ana-Paula-Ferrari/exerc.Python/blob/exerc%C3%ADcios/DSA_Python_Cap05_POO.ipynb\" target=\"_parent\"><img src=\"https://colab.research.google.com/assets/colab-badge.svg\" alt=\"Open In Colab\"/></a>"
      ]
    },
    {
      "cell_type": "markdown",
      "metadata": {
        "id": "yBC8fgq9ybAB"
      },
      "source": [
        "# <font color='blue'>Data Science Academy - Python Fundamentos - Capítulo 5</font>\n",
        "\n",
        "## Download: http://github.com/dsacademybr"
      ]
    },
    {
      "cell_type": "markdown",
      "metadata": {
        "id": "Pa3FN244ybAT"
      },
      "source": [
        "## Exercícios"
      ]
    },
    {
      "cell_type": "code",
      "execution_count": null,
      "metadata": {
        "id": "FW0vfqfQybAU"
      },
      "outputs": [],
      "source": [
        "# Exercício 1 - Crie um objeto a partir da classe abaixo, chamado roc1, passando 2 parâmetros e depois faça uma chamada\n",
        "# aos atributos e métodos\n",
        "from math import sqrt\n",
        "\n",
        "class Rocket():\n",
        "     \n",
        "    def __init__(self, x=0, y=0): #Construtor\n",
        "        self.x = x #Atributos\n",
        "        self.y = y\n",
        "        \n",
        "    def move_rocket(self, x_increment=0, y_increment=1): #Método com parametros\n",
        "        self.x += x_increment # atributo x + parâmetro \n",
        "        self.y += y_increment # atributo y + parâmetro \n",
        "        \n",
        "    def print_rocket(self): #Método para imprimir os valores com incremento\n",
        "        print(self.x, self.y)\n",
        "        "
      ]
    },
    {
      "cell_type": "code",
      "execution_count": null,
      "metadata": {
        "id": "C9tYOpW8ybAX"
      },
      "outputs": [],
      "source": [
        "roc1 = Rocket(10, 50) #parametros para construtor"
      ]
    },
    {
      "cell_type": "code",
      "execution_count": null,
      "metadata": {
        "id": "B02Im0pdybAY",
        "outputId": "0e363116-8614-449e-97c8-d5e65db8da00"
      },
      "outputs": [
        {
          "name": "stdout",
          "output_type": "stream",
          "text": [
            "10\n",
            "50\n"
          ]
        }
      ],
      "source": [
        "print(roc1.x) #consultando os atributos\n",
        "print(roc1.y)"
      ]
    },
    {
      "cell_type": "code",
      "execution_count": null,
      "metadata": {
        "id": "lq1K7y68ybAa"
      },
      "outputs": [],
      "source": [
        "roc1.move_rocket(4,7) #chamada do método incrementar"
      ]
    },
    {
      "cell_type": "code",
      "execution_count": null,
      "metadata": {
        "id": "ccmURqrIybAc",
        "outputId": "78e799b9-879b-415f-dcbb-df83cbee0903"
      },
      "outputs": [
        {
          "name": "stdout",
          "output_type": "stream",
          "text": [
            "14 57\n"
          ]
        }
      ],
      "source": [
        "roc1.print_rocket() # método imprimir valores atributos com o incremento"
      ]
    },
    {
      "cell_type": "code",
      "execution_count": null,
      "metadata": {
        "id": "8SMAhoDjybAd"
      },
      "outputs": [],
      "source": [
        "# Exercício 2 - Crie uma classe chamada Pessoa() com os atributos: nome, cidade, telefone e e-mail. Use pelo menos 2\n",
        "# métodos especiais na sua classe. Crie um objeto da sua classe e faça uma chamada a pelo menos um dos seus métodos\n",
        "# especiais.\n"
      ]
    },
    {
      "cell_type": "code",
      "execution_count": null,
      "metadata": {
        "id": "Ewmjx5cbybAg"
      },
      "outputs": [],
      "source": [
        "class Pessoa():\n",
        "    def __init__(self, nome, cidade, telefone, email):\n",
        "        self.nome = nome\n",
        "        self.cidade = cidade\n",
        "        self.telefone = telefone\n",
        "        self.email = email\n",
        "        \n",
        "    def __str__(self):\n",
        "        return \"nome: \" + self.nome"
      ]
    },
    {
      "cell_type": "code",
      "execution_count": null,
      "metadata": {
        "id": "t2X-E6QtybAi"
      },
      "outputs": [],
      "source": [
        "aluno = Pessoa(\"Ana\", \"Porangaba\", \"32511-1000\", \"anaprferrari@hotmail.com\")"
      ]
    },
    {
      "cell_type": "code",
      "execution_count": null,
      "metadata": {
        "id": "keoy3iteybAj",
        "outputId": "88cffd11-087c-40a3-ffd9-169ffbf55db3"
      },
      "outputs": [
        {
          "data": {
            "text/plain": [
              "'nome: Ana'"
            ]
          },
          "execution_count": 30,
          "metadata": {},
          "output_type": "execute_result"
        }
      ],
      "source": [
        "aluno.__str__()"
      ]
    },
    {
      "cell_type": "code",
      "execution_count": null,
      "metadata": {
        "id": "nN5p7GlkybAk",
        "outputId": "764349d8-1991-4759-e825-889088bc762e"
      },
      "outputs": [
        {
          "data": {
            "text/plain": [
              "'nome: Ana'"
            ]
          },
          "execution_count": 108,
          "metadata": {},
          "output_type": "execute_result"
        }
      ],
      "source": [
        "str(aluno)"
      ]
    },
    {
      "cell_type": "code",
      "execution_count": null,
      "metadata": {
        "id": "bMaI_3spybAm"
      },
      "outputs": [],
      "source": [
        "# Exercício 3 - Crie a classe Smartphone com 2 atributos, tamanho e interface e crie a classe MP3Player com os \n",
        "# atributos capacidade. A classe MP3player deve herdar os atributos da classe Smartphone.\n"
      ]
    },
    {
      "cell_type": "code",
      "execution_count": null,
      "metadata": {
        "id": "g7J34xodybAn"
      },
      "outputs": [],
      "source": [
        "class Smartphone():\n",
        "    def __init__(self, tamanho, interface):\n",
        "        self.tamanho = tamanho\n",
        "        self.interface = interface"
      ]
    },
    {
      "cell_type": "code",
      "execution_count": null,
      "metadata": {
        "id": "iap4NawSybAp"
      },
      "outputs": [],
      "source": [
        "motorola = Smartphone(100, 50)"
      ]
    },
    {
      "cell_type": "code",
      "execution_count": null,
      "metadata": {
        "id": "a4KiHXUwybAr"
      },
      "outputs": [],
      "source": [
        "class MP3player(Smartphone):\n",
        "    def __init__(self,capacidade, tamanho, interface):\n",
        "        self.capacidade = capacidade\n",
        "        Smartphone.__init__(self,tamanho,interface)\n",
        "        \n"
      ]
    },
    {
      "cell_type": "code",
      "execution_count": null,
      "metadata": {
        "id": "pOhPL7T9ybAs"
      },
      "outputs": [],
      "source": [
        "motorola2 = MP3player(15,\"Pequena\",70)"
      ]
    },
    {
      "cell_type": "code",
      "execution_count": null,
      "metadata": {
        "id": "1Q_AXDF6ybAu",
        "outputId": "d13f5ec3-8106-4536-83a5-c2eb37c43aff"
      },
      "outputs": [
        {
          "data": {
            "text/plain": [
              "70"
            ]
          },
          "execution_count": 113,
          "metadata": {},
          "output_type": "execute_result"
        }
      ],
      "source": [
        "motorola2.interface"
      ]
    },
    {
      "cell_type": "markdown",
      "metadata": {
        "id": "jhrsN5cbybAw"
      },
      "source": [
        "### FIM"
      ]
    }
  ],
  "metadata": {
    "kernelspec": {
      "display_name": "Python 3 (ipykernel)",
      "language": "python",
      "name": "python3"
    },
    "language_info": {
      "codemirror_mode": {
        "name": "ipython",
        "version": 3
      },
      "file_extension": ".py",
      "mimetype": "text/x-python",
      "name": "python",
      "nbconvert_exporter": "python",
      "pygments_lexer": "ipython3",
      "version": "3.9.7"
    },
    "colab": {
      "name": "DSA-Python-Cap05-Exercicios.ipynb",
      "provenance": [],
      "include_colab_link": true
    }
  },
  "nbformat": 4,
  "nbformat_minor": 0
}