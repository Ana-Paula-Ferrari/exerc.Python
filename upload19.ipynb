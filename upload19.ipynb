{
  "nbformat": 4,
  "nbformat_minor": 0,
  "metadata": {
    "colab": {
      "name": "Untitled1.ipynb",
      "provenance": [],
      "authorship_tag": "ABX9TyOYZ+97Jb2ZlSdcplKsvzIM"
    },
    "kernelspec": {
      "name": "python3",
      "display_name": "Python 3"
    },
    "language_info": {
      "name": "python"
    }
  },
  "cells": [
    {
      "cell_type": "code",
      "metadata": {
        "id": "u0mHn_JHR-vQ"
      },
      "source": [
        "def realce():\n",
        "  #corpo da função\n",
        "  print('|','_'*10, '|')\n",
        "  print('|','_'*10, '|')"
      ],
      "execution_count": 1,
      "outputs": []
    },
    {
      "cell_type": "code",
      "metadata": {
        "colab": {
          "base_uri": "https://localhost:8080/"
        },
        "id": "3c_ycfmNUhqP",
        "outputId": "c383b749-a8b4-4195-eac9-836179be44b4"
      },
      "source": [
        "#Programa principal\n",
        "realce()\n",
        "print('     MENU')\n",
        "realce()"
      ],
      "execution_count": 3,
      "outputs": [
        {
          "output_type": "stream",
          "text": [
            "| __________ |\n",
            "| __________ |\n",
            "     MENU\n",
            "| __________ |\n",
            "| __________ |\n"
          ],
          "name": "stdout"
        }
      ]
    },
    {
      "cell_type": "code",
      "metadata": {
        "id": "ymxlkeVoWpSd"
      },
      "source": [
        "def realce(s1):\n",
        "  print('|','_'*10, '|')\n",
        "  print('|','_'*10, '|')\n",
        "  print(s1)\n",
        "  print('|','_'*10, '|')\n",
        "  print('|','_'*10, '|')\n",
        "  \n"
      ],
      "execution_count": 6,
      "outputs": []
    },
    {
      "cell_type": "code",
      "metadata": {
        "colab": {
          "base_uri": "https://localhost:8080/"
        },
        "id": "RRwBUhMyXDDI",
        "outputId": "341eafb9-0da8-44a4-827a-29248bb71185"
      },
      "source": [
        "#Programa principal\n",
        "realce('     MENU')"
      ],
      "execution_count": 7,
      "outputs": [
        {
          "output_type": "stream",
          "text": [
            "| __________ |\n",
            "| __________ |\n",
            "     MENU\n",
            "| __________ |\n",
            "| __________ |\n"
          ],
          "name": "stdout"
        }
      ]
    },
    {
      "cell_type": "code",
      "metadata": {
        "colab": {
          "base_uri": "https://localhost:8080/"
        },
        "id": "gjl25YbSXc07",
        "outputId": "8c3d0aaf-4b4b-4987-e5ca-bb695755fe29"
      },
      "source": [
        "def sub2(x, y):\n",
        " res = x - y\n",
        " print(res)\n",
        " #programa principal\n",
        "sub2(5, 7) # A ordem do principal passa para a função sub2 "
      ],
      "execution_count": 20,
      "outputs": [
        {
          "output_type": "stream",
          "text": [
            "-2\n"
          ],
          "name": "stdout"
        }
      ]
    },
    {
      "cell_type": "code",
      "metadata": {
        "colab": {
          "base_uri": "https://localhost:8080/"
        },
        "id": "CupJmN3uYeaG",
        "outputId": "29d49eae-8190-4c3f-8d63-51d4a09eee50"
      },
      "source": [
        "sub2(7, 5)\n",
        "sub2(y = 7, x = 5)"
      ],
      "execution_count": 23,
      "outputs": [
        {
          "output_type": "stream",
          "text": [
            "2\n",
            "-2\n"
          ],
          "name": "stdout"
        }
      ]
    },
    {
      "cell_type": "code",
      "metadata": {
        "id": "RiM0GfxoZkjK"
      },
      "source": [
        "def soma3(x=0, y=0, z=0):\n",
        "  res = x+y+z\n",
        "  print(res)"
      ],
      "execution_count": 24,
      "outputs": []
    },
    {
      "cell_type": "code",
      "metadata": {
        "colab": {
          "base_uri": "https://localhost:8080/"
        },
        "id": "9s9P13TaZyu0",
        "outputId": "a9741769-7fac-45f4-8c79-2213751ec2f5"
      },
      "source": [
        "soma3(1,2,3) #nenhum item omitido\n",
        "soma3(1,2) #z foi omitido\n",
        "soma3(1) #y e z foram omitidos\n",
        "soma3() #x, y e z foram omitidos"
      ],
      "execution_count": 25,
      "outputs": [
        {
          "output_type": "stream",
          "text": [
            "6\n",
            "3\n",
            "1\n",
            "0\n"
          ],
          "name": "stdout"
        }
      ]
    },
    {
      "cell_type": "code",
      "metadata": {
        "colab": {
          "base_uri": "https://localhost:8080/"
        },
        "id": "dVK5_08uaiZi",
        "outputId": "a1debf79-4189-4343-919b-48cc335e6e95"
      },
      "source": [
        "def borda(s1):\n",
        "   tam = len(s1)\n",
        "   #só imprime caso exista algum caractere\n",
        "   if tam:\n",
        "     print('+','-' * tam, '+')\n",
        "     print('|', s1, '|')\n",
        "     print('+','-' * tam, '+')\n",
        "\n",
        "#Programa principal\n",
        "borda('Olá, Mundo!')\n",
        "borda('Lógica de Programação e Algoritmos')"
      ],
      "execution_count": 26,
      "outputs": [
        {
          "output_type": "stream",
          "text": [
            "+ ----------- +\n",
            "| Olá, Mundo! |\n",
            "+ ----------- +\n",
            "+ ---------------------------------- +\n",
            "| Lógica de Programação e Algoritmos |\n",
            "+ ---------------------------------- +\n"
          ],
          "name": "stdout"
        }
      ]
    },
    {
      "cell_type": "code",
      "metadata": {
        "colab": {
          "base_uri": "https://localhost:8080/"
        },
        "id": "-z76NuvMcCRC",
        "outputId": "8e2c0f08-d43f-40ee-a019-80d960b363f3"
      },
      "source": [
        "def comida():\n",
        "  print(ovos)\n",
        "#Programa principal\n",
        "ovos = 12 #variavél de escopo global\n",
        "comida()"
      ],
      "execution_count": 27,
      "outputs": [
        {
          "output_type": "stream",
          "text": [
            "12\n"
          ],
          "name": "stdout"
        }
      ]
    },
    {
      "cell_type": "code",
      "metadata": {
        "colab": {
          "base_uri": "https://localhost:8080/"
        },
        "id": "U0efQDRDdjKO",
        "outputId": "71c95c66-cd66-40e6-dc16-b2b6d50ca5a1"
      },
      "source": [
        "def comida():\n",
        "  ovos = 12#escopo local\n",
        "  bacon()\n",
        "  print(ovos)\n",
        "\n",
        "def bacon():\n",
        "  ovos = 6#escopo local\n",
        "\n",
        "#Programa principal\n",
        "comida()"
      ],
      "execution_count": 28,
      "outputs": [
        {
          "output_type": "stream",
          "text": [
            "12\n"
          ],
          "name": "stdout"
        }
      ]
    },
    {
      "cell_type": "code",
      "metadata": {
        "colab": {
          "base_uri": "https://localhost:8080/"
        },
        "id": "6U0psjPUe_ra",
        "outputId": "85ecf56f-792e-4a0b-cfb9-590daa990ec1"
      },
      "source": [
        "def comida():\n",
        "  ovos = 'variável local de comida'#escopo local\n",
        "  print(ovos) #2ª\n",
        "\n",
        "def bacon():\n",
        "  ovos = 'variável local de bacon'#escopo local\n",
        "  print(ovos) #1ª\n",
        "  comida()\n",
        "  print(ovos) #3ª\n",
        "\n",
        "#Programa principal, a execução sempre começa por aqui!\n",
        "ovos = 'variável global' #escopo global\n",
        "bacon()\n",
        "print(ovos) #4ª impressão"
      ],
      "execution_count": 29,
      "outputs": [
        {
          "output_type": "stream",
          "text": [
            "variável local de bacon\n",
            "variável local de comida\n",
            "variável local de bacon\n",
            "variável global\n"
          ],
          "name": "stdout"
        }
      ]
    },
    {
      "cell_type": "code",
      "metadata": {
        "colab": {
          "base_uri": "https://localhost:8080/"
        },
        "id": "MbZyD6v6gij8",
        "outputId": "5712c324-6bdc-4356-d92b-1fce2497c27b"
      },
      "source": [
        "def comida():\n",
        "  global ovos #instrução global- altera o valor da variável global\n",
        "  ovos = 'comida'\n",
        "\n",
        "#Programa principal\n",
        "ovos = 'global'\n",
        "comida()\n",
        "print(ovos)"
      ],
      "execution_count": 33,
      "outputs": [
        {
          "output_type": "stream",
          "text": [
            "comida\n"
          ],
          "name": "stdout"
        }
      ]
    },
    {
      "cell_type": "code",
      "metadata": {
        "colab": {
          "base_uri": "https://localhost:8080/"
        },
        "id": "HPtWYZrdiCOH",
        "outputId": "241cc0e8-0c6f-4028-ef41-187cdccf23ea"
      },
      "source": [
        "def soma3(x=0, y=0, z=0):\n",
        "  res = x + y + z\n",
        "  return res \n",
        "\n",
        "#Programa principal\n",
        "retornado = soma3(1,2,3)\n",
        "print(retornado)\n",
        "\n",
        "#forma alternativa simplificada\n",
        "print(soma3(2,2))"
      ],
      "execution_count": 34,
      "outputs": [
        {
          "output_type": "stream",
          "text": [
            "6\n",
            "4\n"
          ],
          "name": "stdout"
        }
      ]
    },
    {
      "cell_type": "code",
      "metadata": {
        "colab": {
          "base_uri": "https://localhost:8080/"
        },
        "id": "ZSj4-fBjjJVh",
        "outputId": "2a9f4a5b-9edb-4f66-b008-18cbac64f621"
      },
      "source": [
        "#Programa principal\n",
        "retornado1 = soma3(1,2,3)\n",
        "retornado2 = soma3(1,2)\n",
        "retornado3 = soma3()\n",
        "print('O somatórios: {}, {} e {}.'.format(retornado1, retornado2, retornado3))"
      ],
      "execution_count": 35,
      "outputs": [
        {
          "output_type": "stream",
          "text": [
            "O somatórios: 6, 3 e 0.\n"
          ],
          "name": "stdout"
        }
      ]
    },
    {
      "cell_type": "code",
      "metadata": {
        "colab": {
          "base_uri": "https://localhost:8080/"
        },
        "id": "qdNb063JkXed",
        "outputId": "532a1b42-b45a-47ce-b533-b9e4c2c4ffd6"
      },
      "source": [
        "#Exercício 1.5\n",
        "def valida_string(pergunta, min, max):\n",
        "  s1 = input(pergunta)\n",
        "  tam = len(s1)\n",
        "  while((tam < min) or (tam > max)):\n",
        "    s1 = input(pergunta)\n",
        "    tam = len(s1)\n",
        "  return s1\n",
        "\n",
        "#Programa principal\n",
        "x = valida_string('Digite uma string: ', 10, 30)\n",
        "print('Você digitou a string: {}.\\nDado válido. Encerrando o programa...'.format(x))"
      ],
      "execution_count": 38,
      "outputs": [
        {
          "output_type": "stream",
          "text": [
            "Digite uma string: ana\n",
            "Digite uma string: algoritmos\n",
            "Você digitou a string: algoritmos.\n",
            "Dado válido. Encerrando o programa...\n"
          ],
          "name": "stdout"
        }
      ]
    },
    {
      "cell_type": "code",
      "metadata": {
        "colab": {
          "base_uri": "https://localhost:8080/"
        },
        "id": "eiid4e26n7vC",
        "outputId": "5ff7fbe3-eef1-487c-dda7-2a8713220e1d"
      },
      "source": [
        "def div():\n",
        "  try:\n",
        "    num1 = int(input('Digite um número: '))\n",
        "    num2 = int(input('Digite um número: '))\n",
        "    res = num1 / num2\n",
        "  except ZeroDivisionError:\n",
        "    print('Opps! Erro de divisão por Zero...')\n",
        "  except:\n",
        "    print('Algo de errado aconteceu...')\n",
        "  else:\n",
        "    return res \n",
        "  finally:\n",
        "    print('Executará sempre! ')\n",
        "    \n",
        "#Programa principal\n",
        "print(div())"
      ],
      "execution_count": 39,
      "outputs": [
        {
          "output_type": "stream",
          "text": [
            "Digite um número: 10\n",
            "Digite um número: 0\n",
            "Opps! Erro de divisão por Zero...\n",
            "Executará sempre! \n",
            "None\n"
          ],
          "name": "stdout"
        }
      ]
    },
    {
      "cell_type": "code",
      "metadata": {
        "colab": {
          "base_uri": "https://localhost:8080/"
        },
        "id": "gW1yHHmEpX9n",
        "outputId": "1b0ff16c-1b9c-4cfe-ebe4-1c95bed2ff7b"
      },
      "source": [
        "def imprime_com_condicao(num,fcond):\n",
        "  if fcond(num):\n",
        "    print(num)\n",
        "def par(x):\n",
        " return x % 2 == 0\n",
        "def impar(x):\n",
        "  return not par(x)\n",
        "\n",
        "#programa principal\n",
        "imprime_com_condicao(5,impar)"
      ],
      "execution_count": 41,
      "outputs": [
        {
          "output_type": "stream",
          "text": [
            "5\n"
          ],
          "name": "stdout"
        }
      ]
    },
    {
      "cell_type": "code",
      "metadata": {
        "colab": {
          "base_uri": "https://localhost:8080/"
        },
        "id": "27OFq4tNqt8y",
        "outputId": "60208d09-9116-4a3a-de16-63c8a55e62a9"
      },
      "source": [
        "#Função lambda\n",
        "res = lambda x : x * x\n",
        "print(res(3)) "
      ],
      "execution_count": 42,
      "outputs": [
        {
          "output_type": "stream",
          "text": [
            "9\n"
          ],
          "name": "stdout"
        }
      ]
    },
    {
      "cell_type": "code",
      "metadata": {
        "colab": {
          "base_uri": "https://localhost:8080/"
        },
        "id": "UZRcxXTFq4CB",
        "outputId": "67970be4-0a44-4f2f-df16-0b3834f5d664"
      },
      "source": [
        "#Função lambda\n",
        "soma = lambda x,y: x + y\n",
        "print(soma(3,5)) #parametros"
      ],
      "execution_count": 43,
      "outputs": [
        {
          "output_type": "stream",
          "text": [
            "8\n"
          ],
          "name": "stdout"
        }
      ]
    },
    {
      "cell_type": "code",
      "metadata": {
        "colab": {
          "base_uri": "https://localhost:8080/"
        },
        "id": "FqefNvMtadoG",
        "outputId": "4de68497-0de2-4a0b-a652-2cc31e44ec28"
      },
      "source": [
        "mochila = ('Machado', 'Camisa', 'Bacon', 'Abacate')\n",
        "print(mochila)"
      ],
      "execution_count": 1,
      "outputs": [
        {
          "output_type": "stream",
          "text": [
            "('Machado', 'Camisa', 'Bacon', 'Abacate')\n"
          ],
          "name": "stdout"
        }
      ]
    },
    {
      "cell_type": "code",
      "metadata": {
        "colab": {
          "base_uri": "https://localhost:8080/"
        },
        "id": "L7X-_73FayAf",
        "outputId": "7429a803-5f35-4c4f-9964-7979cfe0b1b1"
      },
      "source": [
        "print(mochila[0]) #print do elemento 1 - índice 0\n",
        "print(mochila[2]) #print do elemento 3 - índice 2\n",
        "print(mochila[0:2]) #print dos elementos 1 e 2 ou seja índice 0 e 1\n",
        "print(mochila[2:]) #print dos elementos a partir do índice 2\n",
        "print(mochila[-1]) #print do último"
      ],
      "execution_count": 8,
      "outputs": [
        {
          "output_type": "stream",
          "text": [
            "Machado\n",
            "Bacon\n",
            "('Machado', 'Camisa')\n",
            "('Bacon', 'Abacate')\n",
            "Abacate\n"
          ],
          "name": "stdout"
        }
      ]
    },
    {
      "cell_type": "code",
      "metadata": {
        "colab": {
          "base_uri": "https://localhost:8080/"
        },
        "id": "WgGhNgv9ckQf",
        "outputId": "c5cccbf7-205e-45fe-d115-ad727242f0fc"
      },
      "source": [
        "for item in mochila:\n",
        "  print('Na mochila tem: {}'.format(item))"
      ],
      "execution_count": 9,
      "outputs": [
        {
          "output_type": "stream",
          "text": [
            "Na mochila tem: Machado\n",
            "Na mochila tem: Camisa\n",
            "Na mochila tem: Bacon\n",
            "Na mochila tem: Abacate\n"
          ],
          "name": "stdout"
        }
      ]
    },
    {
      "cell_type": "code",
      "metadata": {
        "colab": {
          "base_uri": "https://localhost:8080/"
        },
        "id": "t4i_flTKcy9Y",
        "outputId": "3a4ad70a-a4cc-456c-c48c-4575586720c6"
      },
      "source": [
        "tam = len(mochila) #vai de 0 a 3 a varedura\n",
        "for i in range (0, tam, 1):\n",
        "  print('Na mochila tem: {}'.format(mochila[i]))"
      ],
      "execution_count": 10,
      "outputs": [
        {
          "output_type": "stream",
          "text": [
            "Na mochila tem: Machado\n",
            "Na mochila tem: Camisa\n",
            "Na mochila tem: Bacon\n",
            "Na mochila tem: Abacate\n"
          ],
          "name": "stdout"
        }
      ]
    },
    {
      "cell_type": "code",
      "metadata": {
        "colab": {
          "base_uri": "https://localhost:8080/"
        },
        "id": "y4HurkyXdw0h",
        "outputId": "ca4aac87-c48e-4331-81df-d9e06ca097c3"
      },
      "source": [
        "mochila = ('machado', 'camisa', 'bacon', 'abacate')\n",
        "upgrade = ('queijo', 'canivete')\n",
        "mochila_grande = mochila + upgrade\n",
        "\n",
        "print(mochila)\n",
        "print(upgrade)\n",
        "print(mochila_grande)"
      ],
      "execution_count": 11,
      "outputs": [
        {
          "output_type": "stream",
          "text": [
            "('machado', 'camisa', 'bacon', 'abacate')\n",
            "('queijo', 'canivete')\n",
            "('machado', 'camisa', 'bacon', 'abacate', 'queijo', 'canivete')\n"
          ],
          "name": "stdout"
        }
      ]
    },
    {
      "cell_type": "code",
      "metadata": {
        "colab": {
          "base_uri": "https://localhost:8080/"
        },
        "id": "ZkeqDAWqeYJL",
        "outputId": "aff9b791-f0ce-442a-e2b1-0e891a0bc915"
      },
      "source": [
        "mochila_grande_invertida = upgrade + mochila\n",
        "print(mochila_grande)\n",
        "print(mochila_grande_invertida)"
      ],
      "execution_count": 13,
      "outputs": [
        {
          "output_type": "stream",
          "text": [
            "('machado', 'camisa', 'bacon', 'abacate', 'queijo', 'canivete')\n",
            "('queijo', 'canivete', 'machado', 'camisa', 'bacon', 'abacate')\n"
          ],
          "name": "stdout"
        }
      ]
    },
    {
      "cell_type": "code",
      "metadata": {
        "colab": {
          "base_uri": "https://localhost:8080/"
        },
        "id": "SVXk9xj8fHEA",
        "outputId": "a2e704a2-c45a-4293-a6ff-0fdf81337d57"
      },
      "source": [
        "#desempacotamento de parâmetros em funções\n",
        "def soma(*num): # * representa o desempacotamento\n",
        " soma = 0\n",
        " print('Tupla: {}'.format(num))\n",
        " for i in num:\n",
        "   soma += i\n",
        " return soma\n",
        "\n",
        "#programa principal\n",
        "print('Resultado: {}\\n'.format(soma(1,2)))\n",
        "print('Resultado: {}\\n'.format(soma(1,2,3,4,5,6,7,8,9)))\n"
      ],
      "execution_count": 16,
      "outputs": [
        {
          "output_type": "stream",
          "text": [
            "Tupla: (1, 2)\n",
            "Resultado: 3\n",
            "\n",
            "Tupla: (1, 2, 3, 4, 5, 6, 7, 8, 9)\n",
            "Resultado: 45\n",
            "\n"
          ],
          "name": "stdout"
        }
      ]
    },
    {
      "cell_type": "code",
      "metadata": {
        "colab": {
          "base_uri": "https://localhost:8080/"
        },
        "id": "h8WKk-z0hGqa",
        "outputId": "3301bf68-9a76-4d86-ab44-146969e08d49"
      },
      "source": [
        "mochila = ('machado', 'camisa', 'bacon', 'abacate')\n",
        "print('Tupla: ', mochila)\n",
        "mochila = ['machado', 'camisa', 'bacon', 'abacate']\n",
        "print('Listas: ', mochila)"
      ],
      "execution_count": 17,
      "outputs": [
        {
          "output_type": "stream",
          "text": [
            "Tupla:  ('machado', 'camisa', 'bacon', 'abacate')\n",
            "Listas:  ['machado', 'camisa', 'bacon', 'abacate']\n"
          ],
          "name": "stdout"
        }
      ]
    },
    {
      "cell_type": "code",
      "metadata": {
        "colab": {
          "base_uri": "https://localhost:8080/"
        },
        "id": "kAsphZjThlfn",
        "outputId": "6c6bf466-87ff-4995-a4a9-cc2b362be187"
      },
      "source": [
        "mochila[2] = 'laranja'\n",
        "print('Listas: ', mochila)"
      ],
      "execution_count": 18,
      "outputs": [
        {
          "output_type": "stream",
          "text": [
            "Listas:  ['machado', 'camisa', 'laranja', 'abacate']\n"
          ],
          "name": "stdout"
        }
      ]
    },
    {
      "cell_type": "code",
      "metadata": {
        "colab": {
          "base_uri": "https://localhost:8080/"
        },
        "id": "U4R0M3-ph7UE",
        "outputId": "88d2e962-40f3-43d4-e139-c6a8c9c7fa25"
      },
      "source": [
        "mochila.append('ovos') #acrescentar um novo item no final da lista\n",
        "print('Lista: ', mochila)\n",
        "\n",
        "mochila.insert(1, 'canivete') #acrescentar um item em uma posição especifica, demais itens são deslocados\n",
        "print('Lista: ', mochila)\n",
        "\n",
        "del mochila[1] #remover da lista um item\n",
        "print('Lista: ', mochila)\n",
        "mochila.remove('ovos') #remover pelo nome\n",
        "print('Lista: ', mochila)\n"
      ],
      "execution_count": 19,
      "outputs": [
        {
          "output_type": "stream",
          "text": [
            "Lista:  ['machado', 'camisa', 'laranja', 'abacate', 'ovos']\n",
            "Lista:  ['machado', 'canivete', 'camisa', 'laranja', 'abacate', 'ovos']\n",
            "Lista:  ['machado', 'camisa', 'laranja', 'abacate', 'ovos']\n",
            "Lista:  ['machado', 'camisa', 'laranja', 'abacate']\n"
          ],
          "name": "stdout"
        }
      ]
    },
    {
      "cell_type": "code",
      "metadata": {
        "colab": {
          "base_uri": "https://localhost:8080/"
        },
        "id": "T98lw7tCjrFx",
        "outputId": "8746a348-31d2-4e20-b8e9-7f894ce5a3d8"
      },
      "source": [
        "#mesma referência\n",
        "x = [5,7,9,11]\n",
        "y = x\n",
        "print(x)\n",
        "print(y)"
      ],
      "execution_count": 20,
      "outputs": [
        {
          "output_type": "stream",
          "text": [
            "[5, 7, 9, 11]\n",
            "[5, 7, 9, 11]\n"
          ],
          "name": "stdout"
        }
      ]
    },
    {
      "cell_type": "code",
      "metadata": {
        "colab": {
          "base_uri": "https://localhost:8080/"
        },
        "id": "Z-Frl1C7kFSF",
        "outputId": "773ef581-f1a0-43af-ec10-608474d89c45"
      },
      "source": [
        "y[0] = 2\n",
        "print(x)\n",
        "print(y)"
      ],
      "execution_count": 21,
      "outputs": [
        {
          "output_type": "stream",
          "text": [
            "[2, 7, 9, 11]\n",
            "[2, 7, 9, 11]\n"
          ],
          "name": "stdout"
        }
      ]
    },
    {
      "cell_type": "code",
      "metadata": {
        "colab": {
          "base_uri": "https://localhost:8080/"
        },
        "id": "SC0AGX4XkZ1F",
        "outputId": "714c99a6-e84f-48d9-d821-b842bf581042"
      },
      "source": [
        "#cópia\n",
        "x = [5,7,9,11]\n",
        "y = x [:] #cria uma cópia\n",
        "print(x)\n",
        "print(y)\n",
        "\n",
        "y[0] = 2\n",
        "print(x)\n",
        "print(y)\n"
      ],
      "execution_count": 23,
      "outputs": [
        {
          "output_type": "stream",
          "text": [
            "[5, 7, 9, 11]\n",
            "[5, 7, 9, 11]\n",
            "[5, 7, 9, 11]\n",
            "[2, 7, 9, 11]\n"
          ],
          "name": "stdout"
        }
      ]
    },
    {
      "cell_type": "code",
      "metadata": {
        "colab": {
          "base_uri": "https://localhost:8080/"
        },
        "id": "mqTmnNyYmznn",
        "outputId": "4d87eb09-226c-4bf7-b105-c1438e405b40"
      },
      "source": [
        "mochila = ['machado', 'camisa', 'bacon', 'abacate']\n",
        "print(mochila[0][0]) # [lista] [índice]\n",
        "print(mochila[2][1])"
      ],
      "execution_count": 24,
      "outputs": [
        {
          "output_type": "stream",
          "text": [
            "m\n",
            "a\n"
          ],
          "name": "stdout"
        }
      ]
    },
    {
      "cell_type": "code",
      "metadata": {
        "colab": {
          "base_uri": "https://localhost:8080/"
        },
        "id": "Qw022IsznaIp",
        "outputId": "c2302822-685f-4418-ebce-25c983a27563"
      },
      "source": [
        "mochila = ['machado', 'camisa', 'bacon', 'abacate']\n",
        "for item in mochila:#lista\n",
        "  for letra in item:#caracter\n",
        "    print(letra, end='')\n",
        "  print()"
      ],
      "execution_count": 25,
      "outputs": [
        {
          "output_type": "stream",
          "text": [
            "machado\n",
            "camisa\n",
            "bacon\n",
            "abacate\n"
          ],
          "name": "stdout"
        }
      ]
    },
    {
      "cell_type": "code",
      "metadata": {
        "colab": {
          "base_uri": "https://localhost:8080/"
        },
        "id": "bMCOJPbxoDR6",
        "outputId": "81b0a223-7f2d-4937-9672-63aa93f76d48"
      },
      "source": [
        "mochila = ['machado', 'camisa', 'bacon', 'abacate']\n",
        "for i in range(0,len(mochila),1):\n",
        "   for j in range(0,len(mochila[i]),1):\n",
        "     print(mochila[i][j], end='')\n",
        "   print()"
      ],
      "execution_count": 27,
      "outputs": [
        {
          "output_type": "stream",
          "text": [
            "machado\n",
            "camisa\n",
            "bacon\n",
            "abacate\n"
          ],
          "name": "stdout"
        }
      ]
    },
    {
      "cell_type": "code",
      "metadata": {
        "colab": {
          "base_uri": "https://localhost:8080/"
        },
        "id": "ROKY0pu8qF-Q",
        "outputId": "56444660-feaa-4512-9ef0-950ba62175b4"
      },
      "source": [
        "item = []#lista vazia\n",
        "mercado = []\n",
        "\n",
        "for i in range(3):\n",
        "  item.append(input('Digite o nome do item: '))\n",
        "  item.append(int(input(\"Digite a quantidade: \")))\n",
        "  item.append(float(input(\"Digite o valor: \")))\n",
        "  mercado.append(item[:])#faz uma cópia dos itens\n",
        "  item.clear()#limpar/ para não aparecer o item 3 vezes cada\n",
        "print(mercado)"
      ],
      "execution_count": 29,
      "outputs": [
        {
          "output_type": "stream",
          "text": [
            "Digite o nome do item: maça\n",
            "Digite a quantidade: 2\n",
            "Digite o valor: 1.20\n",
            "Digite o nome do item: agua\n",
            "Digite a quantidade: 2\n",
            "Digite o valor: 2.90\n",
            "Digite o nome do item: beterraba\n",
            "Digite a quantidade: 5\n",
            "Digite o valor: 3.40\n",
            "[['maça', 2, 1.2], ['agua', 2, 2.9], ['beterraba', 5, 3.4]]\n"
          ],
          "name": "stdout"
        }
      ]
    },
    {
      "cell_type": "code",
      "metadata": {
        "colab": {
          "base_uri": "https://localhost:8080/"
        },
        "id": "dCQUbKlTr1If",
        "outputId": "f9c226d6-9272-4f06-9a59-980b7b6ffff1"
      },
      "source": [
        "mercado = []\n",
        "for i in range(3):\n",
        "  nome = input('Digite o nome do item: ')\n",
        "  quant = int(input('Digite a quantidade: '))\n",
        "  valor = float(input('Digite o valor: '))\n",
        "  mercado.append([nome, quant, valor])\n",
        "print(mercado)"
      ],
      "execution_count": 30,
      "outputs": [
        {
          "output_type": "stream",
          "text": [
            "Digite o nome do item: maça\n",
            "Digite a quantidade: 2\n",
            "Digite o valor: 0.30\n",
            "Digite o nome do item: banana\n",
            "Digite a quantidade: 3\n",
            "Digite o valor: 1.50\n",
            "Digite o nome do item: arroz\n",
            "Digite a quantidade: 1\n",
            "Digite o valor: 5.60\n",
            "[['maça', 2, 0.3], ['banana', 3, 1.5], ['arroz', 1, 5.6]]\n"
          ],
          "name": "stdout"
        }
      ]
    },
    {
      "cell_type": "code",
      "metadata": {
        "colab": {
          "base_uri": "https://localhost:8080/"
        },
        "id": "p55sE65GspGo",
        "outputId": "5856485d-6391-4662-eee2-cc105c50e0f6"
      },
      "source": [
        "soma = 0\n",
        "print('Lista de compras: ')\n",
        "print('-' * 20)\n",
        "print('item | quantidade | valor unitário | total do item')\n",
        "for item in mercado:\n",
        "  print('{} | {} | {} | {} '.format(item[0], item[1], item[2], item[1] * item[2]))\n",
        "  soma += item[1] * item[2]\n",
        "print('-' * 20)\n",
        "print('Total a ser pago: {}'.format(soma))"
      ],
      "execution_count": 31,
      "outputs": [
        {
          "output_type": "stream",
          "text": [
            "Lista de compras: \n",
            "--------------------\n",
            "item | quantidade | valor unitário | total do item\n",
            "maça | 2 | 0.3 | 0.6 \n",
            "banana | 3 | 1.5 | 4.5 \n",
            "arroz | 1 | 5.6 | 5.6 \n",
            "--------------------\n",
            "Total a ser pago: 10.7\n"
          ],
          "name": "stdout"
        }
      ]
    },
    {
      "cell_type": "code",
      "metadata": {
        "colab": {
          "base_uri": "https://localhost:8080/"
        },
        "id": "IkXM1XvHvLUt",
        "outputId": "9072f7b7-d2b5-4fe1-aecb-788c6a6a0d85"
      },
      "source": [
        "game = {'nome':'Super Mario',\n",
        "        'desenvolvedora':'Nintendo', \n",
        "        'ano': 1990 } #chave e seu conteúdo(dados)\n",
        "print(game)\n",
        "\n",
        "print(game['nome'])\n",
        "print(game['desenvolvedora'])\n",
        "print(game['ano'])"
      ],
      "execution_count": 35,
      "outputs": [
        {
          "output_type": "stream",
          "text": [
            "{'nome': 'Super Mario', 'desenvolvedora': 'Nintendo', 'ano': 1990}\n",
            "Super Mario\n",
            "Nintendo\n",
            "1990\n"
          ],
          "name": "stdout"
        }
      ]
    },
    {
      "cell_type": "code",
      "metadata": {
        "colab": {
          "base_uri": "https://localhost:8080/"
        },
        "id": "IwRc7VWzwcDn",
        "outputId": "ff2e38d7-cd7e-464d-e0b8-cce5ae33d5ac"
      },
      "source": [
        "print(game.values())"
      ],
      "execution_count": 36,
      "outputs": [
        {
          "output_type": "stream",
          "text": [
            "dict_values(['Super Mario', 'Nintendo', 1990])\n"
          ],
          "name": "stdout"
        }
      ]
    },
    {
      "cell_type": "code",
      "metadata": {
        "colab": {
          "base_uri": "https://localhost:8080/"
        },
        "id": "Ll8viWFsxNZZ",
        "outputId": "4ec6816d-230c-4907-eff0-00b4d76a3d1f"
      },
      "source": [
        "for i in game.values():\n",
        "  print(i)"
      ],
      "execution_count": 37,
      "outputs": [
        {
          "output_type": "stream",
          "text": [
            "Super Mario\n",
            "Nintendo\n",
            "1990\n"
          ],
          "name": "stdout"
        }
      ]
    },
    {
      "cell_type": "code",
      "metadata": {
        "colab": {
          "base_uri": "https://localhost:8080/"
        },
        "id": "D0tkOgNmxWyr",
        "outputId": "95eb7797-e329-47a4-8b33-a50f1a873b50"
      },
      "source": [
        "print(game.keys())"
      ],
      "execution_count": 38,
      "outputs": [
        {
          "output_type": "stream",
          "text": [
            "dict_keys(['nome', 'desenvolvedora', 'ano'])\n"
          ],
          "name": "stdout"
        }
      ]
    },
    {
      "cell_type": "code",
      "metadata": {
        "colab": {
          "base_uri": "https://localhost:8080/"
        },
        "id": "4linTEBkxdqg",
        "outputId": "86f7fcee-252c-4e64-b405-7e214b42ce95"
      },
      "source": [
        "for i in game.keys():\n",
        "  print(i)"
      ],
      "execution_count": 39,
      "outputs": [
        {
          "output_type": "stream",
          "text": [
            "nome\n",
            "desenvolvedora\n",
            "ano\n"
          ],
          "name": "stdout"
        }
      ]
    },
    {
      "cell_type": "code",
      "metadata": {
        "colab": {
          "base_uri": "https://localhost:8080/"
        },
        "id": "qzUlCu7Qxyk9",
        "outputId": "a2ae429b-6761-4926-f955-37a970bc458a"
      },
      "source": [
        "print(game.items())"
      ],
      "execution_count": 40,
      "outputs": [
        {
          "output_type": "stream",
          "text": [
            "dict_items([('nome', 'Super Mario'), ('desenvolvedora', 'Nintendo'), ('ano', 1990)])\n"
          ],
          "name": "stdout"
        }
      ]
    },
    {
      "cell_type": "code",
      "metadata": {
        "colab": {
          "base_uri": "https://localhost:8080/"
        },
        "id": "92YJJTxox4Cg",
        "outputId": "c5d87aed-e918-406f-95d1-46cae9629203"
      },
      "source": [
        "for i,j in game.items():\n",
        "  print('{} = {}'.format(i,j))"
      ],
      "execution_count": 43,
      "outputs": [
        {
          "output_type": "stream",
          "text": [
            "nome = Super Mario\n",
            "desenvolvedora = Nintendo\n",
            "ano = 1990\n"
          ],
          "name": "stdout"
        }
      ]
    }
  ]
}