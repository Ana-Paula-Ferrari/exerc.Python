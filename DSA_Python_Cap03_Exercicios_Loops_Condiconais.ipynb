{
  "cells": [
    {
      "cell_type": "markdown",
      "metadata": {
        "id": "m18eicbDUxOn"
      },
      "source": [
        "## Exercícios - Loops e Condiconais"
      ]
    },
    {
      "cell_type": "code",
      "execution_count": null,
      "metadata": {
        "id": "XAhUNQjoUxOp"
      },
      "outputs": [],
      "source": [
        "# Exercício 1 - Crie uma estrutura que pergunte ao usuário qual o dia da semana. Se o dia for igual a Domingo ou \n",
        "# igual a sábado, imprima na tela \"Hoje é dia de descanso\", caso contrário imprima na tela \"Você precisa trabalhar!\""
      ]
    },
    {
      "cell_type": "code",
      "execution_count": null,
      "metadata": {
        "id": "W-ybo80cUxOr",
        "outputId": "b168f5c7-a86f-49db-cf38-f646655d3f2b"
      },
      "outputs": [
        {
          "name": "stdout",
          "output_type": "stream",
          "text": [
            "Qual o dia da semana?segunda\n",
            "Você precisa trabalhar!\n"
          ]
        }
      ],
      "source": [
        "dia_semana = input('Qual o dia da semana?')\n",
        "if dia_semana == \"Domingo\" or dia_semana == \"Sábado\":\n",
        "    print(\"Hoje é dia de descanso\")\n",
        "else:\n",
        "    print(\"Você precisa trabalhar!\")"
      ]
    },
    {
      "cell_type": "code",
      "execution_count": null,
      "metadata": {
        "id": "obTup8tIUxOv"
      },
      "outputs": [],
      "source": [
        "# Exercício 2 - Crie uma lista de 5 frutas e verifique se a fruta 'Morango' faz parte da lista"
      ]
    },
    {
      "cell_type": "code",
      "execution_count": null,
      "metadata": {
        "id": "eb4KqGreUxOx",
        "outputId": "86075abc-fb6b-4494-b5c8-8352d2fd832c"
      },
      "outputs": [
        {
          "name": "stdout",
          "output_type": "stream",
          "text": [
            "morango\n"
          ]
        }
      ],
      "source": [
        "frutas = [\"banana\", \"uva\", \"abacate\", \"caqui\", \"morango\"]\n",
        "for i in frutas:\n",
        "    if i == \"morango\":\n",
        "        print(i)"
      ]
    },
    {
      "cell_type": "code",
      "execution_count": null,
      "metadata": {
        "id": "Jmnm6P7XUxO1"
      },
      "outputs": [],
      "source": [
        "# Exercício 3 - Crie uma tupla de 4 elementos, multiplique cada elemento da tupla por 2 e guarde os resultados em uma \n",
        "# lista"
      ]
    },
    {
      "cell_type": "code",
      "execution_count": null,
      "metadata": {
        "id": "W06W4_drUxO5",
        "outputId": "079b70c6-98ce-4a7a-9657-f9db29c436ce"
      },
      "outputs": [
        {
          "name": "stdout",
          "output_type": "stream",
          "text": [
            "[120, 80, 64, 152]\n"
          ]
        }
      ],
      "source": [
        "lista = []\n",
        "tpl = (60, 40, 32, 76)\n",
        "for i in tpl:\n",
        "    lista.append(i*2)\n",
        "print(lista)"
      ]
    },
    {
      "cell_type": "code",
      "execution_count": null,
      "metadata": {
        "id": "cVghP1z_UxO9"
      },
      "outputs": [],
      "source": [
        "# Exercício 4 - Crie uma sequência de números pares entre 100 e 150 e imprima na tela"
      ]
    },
    {
      "cell_type": "code",
      "execution_count": null,
      "metadata": {
        "id": "y8vaiCneUxPA",
        "outputId": "be65683e-78e6-4c04-8979-c0c2e71234b6"
      },
      "outputs": [
        {
          "name": "stdout",
          "output_type": "stream",
          "text": [
            "Essa é uma sequência de números pares: \n",
            "100\n",
            "102\n",
            "104\n",
            "106\n",
            "108\n",
            "110\n",
            "112\n",
            "114\n",
            "116\n",
            "118\n",
            "120\n",
            "122\n",
            "124\n",
            "126\n",
            "128\n",
            "130\n",
            "132\n",
            "134\n",
            "136\n",
            "138\n",
            "140\n",
            "142\n",
            "144\n",
            "146\n",
            "148\n",
            "150\n"
          ]
        }
      ],
      "source": [
        "print(\"Essa é uma sequência de números pares: \")\n",
        "for num in range(100, 151, 2):\n",
        "     print(num)"
      ]
    },
    {
      "cell_type": "code",
      "execution_count": null,
      "metadata": {
        "id": "sdhpcCaEUxPC"
      },
      "outputs": [],
      "source": [
        "# Exercício 5 - Crie uma variável chamada temperatura e atribua o valor 40. Enquanto temperatura for maior que 35, \n",
        "# imprima as temperaturas na tela"
      ]
    },
    {
      "cell_type": "code",
      "execution_count": null,
      "metadata": {
        "id": "-N2jleg5UxPF",
        "outputId": "4b16b40b-4483-435b-b980-c6d5af9d9052"
      },
      "outputs": [
        {
          "name": "stdout",
          "output_type": "stream",
          "text": [
            "40\n",
            "39\n",
            "38\n",
            "37\n",
            "36\n"
          ]
        }
      ],
      "source": [
        "temperatura = 40\n",
        "while temperatura > 35:\n",
        "    print(temperatura)\n",
        "    temperatura -= 1"
      ]
    },
    {
      "cell_type": "code",
      "execution_count": null,
      "metadata": {
        "id": "EkNvqcSVUxPI"
      },
      "outputs": [],
      "source": [
        "# Exercício 6 - Crie uma variável chamada contador = 0. Enquanto counter for menor que 100, imprima os valores na tela,\n",
        "# mas quando for encontrado o valor 23, interrompa a execução do programa"
      ]
    },
    {
      "cell_type": "code",
      "execution_count": null,
      "metadata": {
        "id": "9AHFCLjmUxPK",
        "outputId": "437296c2-00bc-4c30-9185-c6b6f353dcaf"
      },
      "outputs": [
        {
          "name": "stdout",
          "output_type": "stream",
          "text": [
            "0\n",
            "1\n",
            "2\n",
            "3\n",
            "4\n",
            "5\n",
            "6\n",
            "7\n",
            "8\n",
            "9\n",
            "10\n",
            "11\n",
            "12\n",
            "13\n",
            "14\n",
            "15\n",
            "16\n",
            "17\n",
            "18\n",
            "19\n",
            "20\n",
            "21\n",
            "22\n"
          ]
        }
      ],
      "source": [
        "contador=0\n",
        "while contador < 100:\n",
        "    if contador == 23:\n",
        "        break\n",
        "    else:\n",
        "        pass\n",
        "    print(contador)\n",
        "    contador+=1"
      ]
    },
    {
      "cell_type": "code",
      "execution_count": null,
      "metadata": {
        "id": "XkG3jYvBUxPM",
        "outputId": "fcc5d3b7-5228-4353-c339-e66ac64d7a3b"
      },
      "outputs": [
        {
          "name": "stdout",
          "output_type": "stream",
          "text": [
            "0\n",
            "1\n",
            "2\n",
            "3\n",
            "4\n",
            "5\n",
            "6\n",
            "7\n",
            "8\n",
            "9\n",
            "10\n",
            "11\n",
            "12\n",
            "13\n",
            "14\n",
            "15\n",
            "16\n",
            "17\n",
            "18\n",
            "19\n",
            "20\n",
            "21\n",
            "22\n"
          ]
        }
      ],
      "source": [
        "cont = 0\n",
        "while cont < 100:\n",
        "  if cont == 23:\n",
        "    break\n",
        "  else:\n",
        "    print(cont)\n",
        "  cont += 1"
      ]
    },
    {
      "cell_type": "code",
      "execution_count": null,
      "metadata": {
        "id": "Zo1rjTQ4UxPP"
      },
      "outputs": [],
      "source": [
        "# Exercício 7 - Crie uma lista vazia e uma variável com valor 4. Enquanto o valor da variável for menor ou igual a 20, \n",
        "# adicione à lista, apenas os valores pares e imprima a lista"
      ]
    },
    {
      "cell_type": "code",
      "execution_count": null,
      "metadata": {
        "id": "T7DBMbLqUxPQ",
        "outputId": "cdb7b134-bc33-4d85-f9bc-37495954b2c6"
      },
      "outputs": [
        {
          "name": "stdout",
          "output_type": "stream",
          "text": [
            "[4, 6, 8, 10, 12, 14, 16, 18, 20]\n"
          ]
        }
      ],
      "source": [
        "lista = []\n",
        "num = 4\n",
        "while num <= 20:\n",
        "    if num % 2 == 0:\n",
        "        lista.append(num)\n",
        "    num += 1\n",
        "print(lista)    "
      ]
    },
    {
      "cell_type": "code",
      "execution_count": null,
      "metadata": {
        "id": "8iXhELKwUxPT",
        "outputId": "ab42016f-238b-49c1-9315-94553a54fc27"
      },
      "outputs": [
        {
          "name": "stdout",
          "output_type": "stream",
          "text": [
            "[5, 7, 9, 11, 13, 15, 17, 19, 21, 23, 25, 27, 29, 31, 33, 35, 37, 39, 41, 43]\n"
          ]
        }
      ],
      "source": [
        "# Exercício 8 - Transforme o resultado desta função range em uma lista: range(5, 45, 2)\n",
        "lista = []\n",
        "nums = range(5, 45, 2)\n",
        "for i in nums:\n",
        "    lista.append(i)\n",
        "print(lista)"
      ]
    },
    {
      "cell_type": "code",
      "execution_count": null,
      "metadata": {
        "id": "onYPaO1xUxPV",
        "outputId": "dff7b3d5-6f61-4ff5-ea3b-0b12b131cba4"
      },
      "outputs": [
        {
          "name": "stdout",
          "output_type": "stream",
          "text": [
            "Qual a temperatura? 30\n",
            "Busque seus casacos.\n"
          ]
        }
      ],
      "source": [
        "# Exercício 9 - Faça a correção dos erros no código abaixo e execute o programa. Dica: são 3 erros.\n",
        "temperatura = float(input('Qual a temperatura? '))\n",
        "if temperatura > 30:\n",
        "    print('Vista roupas leves.')\n",
        "else:\n",
        "    print('Busque seus casacos.')"
      ]
    },
    {
      "cell_type": "code",
      "execution_count": null,
      "metadata": {
        "id": "QFjStWDZUxPY",
        "outputId": "b683a704-db32-4e2a-9877-41569a935f5a"
      },
      "outputs": [
        {
          "name": "stdout",
          "output_type": "stream",
          "text": [
            "O caracter 'r' aparece 6 vezes na frase. \n"
          ]
        }
      ],
      "source": [
        "# Exercício 10 - Faça um programa que conte quantas vezes a letra \"r\" aparece na frase abaixo. Use um placeholder na \n",
        "# sua instrução de impressão\n",
        "\n",
        "# “É melhor, muito melhor, contentar-se com a realidade; se ela não é tão brilhante como os sonhos, tem pelo menos a \n",
        "# vantagem de existir.” (Machado de Assis)\n",
        "\n",
        "frase = \"É melhor, muito melhor, contentar-se com a realidade; se ela não é tão brilhante como os sonhos, tem pelo menos a vantagem de existir.\" \n",
        "cont=0\n",
        "\n",
        "for caracter in frase:\n",
        "    if caracter == \"r\":\n",
        "        cont += 1\n",
        "print(\"O caracter 'r' aparece %s vezes na frase. \" %(cont))"
      ]
    }
  ],
  "metadata": {
    "kernelspec": {
      "display_name": "Python 3 (ipykernel)",
      "language": "python",
      "name": "python3"
    },
    "language_info": {
      "codemirror_mode": {
        "name": "ipython",
        "version": 3
      },
      "file_extension": ".py",
      "mimetype": "text/x-python",
      "name": "python",
      "nbconvert_exporter": "python",
      "pygments_lexer": "ipython3",
      "version": "3.9.7"
    },
    "colab": {
      "name": "DSA-Python-Cap03-Exercicios-Loops-Condiconais.ipynb",
      "provenance": []
    }
  },
  "nbformat": 4,
  "nbformat_minor": 0
}