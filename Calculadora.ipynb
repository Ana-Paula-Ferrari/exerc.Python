{
  "nbformat": 4,
  "nbformat_minor": 0,
  "metadata": {
    "colab": {
      "name": "Calculadora.ipynb",
      "provenance": [],
      "authorship_tag": "ABX9TyP6qT7VIPjAGidb63slBmjg"
    },
    "kernelspec": {
      "name": "python3",
      "display_name": "Python 3"
    },
    "language_info": {
      "name": "python"
    }
  },
  "cells": [
    {
      "cell_type": "code",
      "execution_count": null,
      "metadata": {
        "id": "luqc7ustYh0I"
      },
      "outputs": [],
      "source": [
        "# Calculadora em Python\n",
        "# Desenvolva uma calculadora em Python com tudo que você aprendeu nos capítulos 2 e 3. \n",
        "\n",
        "\n",
        "print(\"\\n******************* Python Calculator *******************\")\n",
        "\n",
        "print(\"Selecione o número da operação desejada: \\n 1 - Soma \\n 2 - Sutração \\n 3 - Multiplicação \\n 4 - Divisão\")#Opções\n",
        "opcao = int(input(\"Digite sua opção(1/2/3/4):\")) #Entrada\n",
        "num1 = int(input(\"\\nDigite o primeiro número: \"))\n",
        "num2 = int(input(\"Digite o segundo número: \"))\n",
        "\n",
        "#Operações\n",
        "if opcao == 1:\n",
        "  print(num1, \" + \", num2, \" = \", num1 + num2)\n",
        "elif opcao == 2:\n",
        "  print(num1, \" - \", num2, \" = \", num1 - num2)\n",
        "elif opcao == 3:\n",
        "  print(num1, \" * \", num2, \" = \", num1 * num2)\n",
        "elif opcao == 4:\n",
        "  print(num1, \" / \", num2, \" = \", num1 / num2)\n",
        "else:\n",
        "  print(\"Opção Inválida!\")"
      ]
    },
    {
      "cell_type": "markdown",
      "source": [
        ""
      ],
      "metadata": {
        "id": "sZrkHSJvb-eG"
      }
    }
  ]
}